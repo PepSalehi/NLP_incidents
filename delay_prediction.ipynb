{
  "nbformat": 4,
  "nbformat_minor": 0,
  "metadata": {
    "colab": {
      "name": "delay_prediction.ipynb",
      "provenance": [],
      "collapsed_sections": []
    },
    "kernelspec": {
      "name": "python3",
      "display_name": "Python 3"
    },
    "accelerator": "GPU",
    "widgets": {
      "application/vnd.jupyter.widget-state+json": {
        "5c574a6a61aa4df1962bf1f918c688f4": {
          "model_module": "@jupyter-widgets/controls",
          "model_name": "HBoxModel",
          "state": {
            "_view_name": "HBoxView",
            "_dom_classes": [],
            "_model_name": "HBoxModel",
            "_view_module": "@jupyter-widgets/controls",
            "_model_module_version": "1.5.0",
            "_view_count": null,
            "_view_module_version": "1.5.0",
            "box_style": "",
            "layout": "IPY_MODEL_88c0bac3adc14d6e8f2d24e0e06f9a30",
            "_model_module": "@jupyter-widgets/controls",
            "children": [
              "IPY_MODEL_d3b17f549a4e4a4893e6262bdeb157b9",
              "IPY_MODEL_01dda733e6884bbc9e883aa98f997f54"
            ]
          }
        },
        "88c0bac3adc14d6e8f2d24e0e06f9a30": {
          "model_module": "@jupyter-widgets/base",
          "model_name": "LayoutModel",
          "state": {
            "_view_name": "LayoutView",
            "grid_template_rows": null,
            "right": null,
            "justify_content": null,
            "_view_module": "@jupyter-widgets/base",
            "overflow": null,
            "_model_module_version": "1.2.0",
            "_view_count": null,
            "flex_flow": null,
            "width": null,
            "min_width": null,
            "border": null,
            "align_items": null,
            "bottom": null,
            "_model_module": "@jupyter-widgets/base",
            "top": null,
            "grid_column": null,
            "overflow_y": null,
            "overflow_x": null,
            "grid_auto_flow": null,
            "grid_area": null,
            "grid_template_columns": null,
            "flex": null,
            "_model_name": "LayoutModel",
            "justify_items": null,
            "grid_row": null,
            "max_height": null,
            "align_content": null,
            "visibility": null,
            "align_self": null,
            "height": null,
            "min_height": null,
            "padding": null,
            "grid_auto_rows": null,
            "grid_gap": null,
            "max_width": null,
            "order": null,
            "_view_module_version": "1.2.0",
            "grid_template_areas": null,
            "object_position": null,
            "object_fit": null,
            "grid_auto_columns": null,
            "margin": null,
            "display": null,
            "left": null
          }
        },
        "d3b17f549a4e4a4893e6262bdeb157b9": {
          "model_module": "@jupyter-widgets/controls",
          "model_name": "FloatProgressModel",
          "state": {
            "_view_name": "ProgressView",
            "style": "IPY_MODEL_d07ee5c084964f2da3e9a7b4fd8b6316",
            "_dom_classes": [],
            "description": "Batches: 100%",
            "_model_name": "FloatProgressModel",
            "bar_style": "success",
            "max": 591,
            "_view_module": "@jupyter-widgets/controls",
            "_model_module_version": "1.5.0",
            "value": 591,
            "_view_count": null,
            "_view_module_version": "1.5.0",
            "orientation": "horizontal",
            "min": 0,
            "description_tooltip": null,
            "_model_module": "@jupyter-widgets/controls",
            "layout": "IPY_MODEL_ba42d2968993473d885c2f1552199058"
          }
        },
        "01dda733e6884bbc9e883aa98f997f54": {
          "model_module": "@jupyter-widgets/controls",
          "model_name": "HTMLModel",
          "state": {
            "_view_name": "HTMLView",
            "style": "IPY_MODEL_ed004698fd5649499164149a0eebb65a",
            "_dom_classes": [],
            "description": "",
            "_model_name": "HTMLModel",
            "placeholder": "​",
            "_view_module": "@jupyter-widgets/controls",
            "_model_module_version": "1.5.0",
            "value": " 591/591 [23:32&lt;00:00,  2.39s/it]",
            "_view_count": null,
            "_view_module_version": "1.5.0",
            "description_tooltip": null,
            "_model_module": "@jupyter-widgets/controls",
            "layout": "IPY_MODEL_b32ff0deb2ea46caa3963ac3b3591cea"
          }
        },
        "d07ee5c084964f2da3e9a7b4fd8b6316": {
          "model_module": "@jupyter-widgets/controls",
          "model_name": "ProgressStyleModel",
          "state": {
            "_view_name": "StyleView",
            "_model_name": "ProgressStyleModel",
            "description_width": "initial",
            "_view_module": "@jupyter-widgets/base",
            "_model_module_version": "1.5.0",
            "_view_count": null,
            "_view_module_version": "1.2.0",
            "bar_color": null,
            "_model_module": "@jupyter-widgets/controls"
          }
        },
        "ba42d2968993473d885c2f1552199058": {
          "model_module": "@jupyter-widgets/base",
          "model_name": "LayoutModel",
          "state": {
            "_view_name": "LayoutView",
            "grid_template_rows": null,
            "right": null,
            "justify_content": null,
            "_view_module": "@jupyter-widgets/base",
            "overflow": null,
            "_model_module_version": "1.2.0",
            "_view_count": null,
            "flex_flow": null,
            "width": null,
            "min_width": null,
            "border": null,
            "align_items": null,
            "bottom": null,
            "_model_module": "@jupyter-widgets/base",
            "top": null,
            "grid_column": null,
            "overflow_y": null,
            "overflow_x": null,
            "grid_auto_flow": null,
            "grid_area": null,
            "grid_template_columns": null,
            "flex": null,
            "_model_name": "LayoutModel",
            "justify_items": null,
            "grid_row": null,
            "max_height": null,
            "align_content": null,
            "visibility": null,
            "align_self": null,
            "height": null,
            "min_height": null,
            "padding": null,
            "grid_auto_rows": null,
            "grid_gap": null,
            "max_width": null,
            "order": null,
            "_view_module_version": "1.2.0",
            "grid_template_areas": null,
            "object_position": null,
            "object_fit": null,
            "grid_auto_columns": null,
            "margin": null,
            "display": null,
            "left": null
          }
        },
        "ed004698fd5649499164149a0eebb65a": {
          "model_module": "@jupyter-widgets/controls",
          "model_name": "DescriptionStyleModel",
          "state": {
            "_view_name": "StyleView",
            "_model_name": "DescriptionStyleModel",
            "description_width": "",
            "_view_module": "@jupyter-widgets/base",
            "_model_module_version": "1.5.0",
            "_view_count": null,
            "_view_module_version": "1.2.0",
            "_model_module": "@jupyter-widgets/controls"
          }
        },
        "b32ff0deb2ea46caa3963ac3b3591cea": {
          "model_module": "@jupyter-widgets/base",
          "model_name": "LayoutModel",
          "state": {
            "_view_name": "LayoutView",
            "grid_template_rows": null,
            "right": null,
            "justify_content": null,
            "_view_module": "@jupyter-widgets/base",
            "overflow": null,
            "_model_module_version": "1.2.0",
            "_view_count": null,
            "flex_flow": null,
            "width": null,
            "min_width": null,
            "border": null,
            "align_items": null,
            "bottom": null,
            "_model_module": "@jupyter-widgets/base",
            "top": null,
            "grid_column": null,
            "overflow_y": null,
            "overflow_x": null,
            "grid_auto_flow": null,
            "grid_area": null,
            "grid_template_columns": null,
            "flex": null,
            "_model_name": "LayoutModel",
            "justify_items": null,
            "grid_row": null,
            "max_height": null,
            "align_content": null,
            "visibility": null,
            "align_self": null,
            "height": null,
            "min_height": null,
            "padding": null,
            "grid_auto_rows": null,
            "grid_gap": null,
            "max_width": null,
            "order": null,
            "_view_module_version": "1.2.0",
            "grid_template_areas": null,
            "object_position": null,
            "object_fit": null,
            "grid_auto_columns": null,
            "margin": null,
            "display": null,
            "left": null
          }
        }
      }
    }
  },
  "cells": [
    {
      "cell_type": "markdown",
      "metadata": {
        "id": "f7H-xMZsOFpa"
      },
      "source": [
        "The link to my drive folder is [here.](https://drive.google.com/drive/folders/1s5varOa81vPRIEciUCThNGaZnhycIUhR?usp=sharing) It has ll the data in it."
      ]
    },
    {
      "cell_type": "code",
      "metadata": {
        "id": "lN_Vbj_l4yYn"
      },
      "source": [
        "%%bash\n",
        "\n",
        "pip -q install sentence-transformers\n",
        "pip -q install -U skorch"
      ],
      "execution_count": null,
      "outputs": []
    },
    {
      "cell_type": "code",
      "metadata": {
        "id": "ELf69TCBzcvF"
      },
      "source": [
        "import pandas as pd\n",
        "import numpy as np\n",
        "import json\n",
        "from typing import *\n",
        "import torch\n",
        "import matplotlib.pyplot as plt\n",
        "from sklearn.model_selection import GridSearchCV\n",
        "from sklearn.decomposition import PCA"
      ],
      "execution_count": null,
      "outputs": []
    },
    {
      "cell_type": "code",
      "metadata": {
        "id": "KFuHwrmud7Er"
      },
      "source": [
        "device = \"cuda\" if torch.cuda.is_available() else \"cpu\"\n",
        "device = torch.device(device)\n",
        "\n",
        "DIR = \"drive/My Drive/UROP Summer 2020/\"\n",
        "DATA_DIR = DIR +\"data/\""
      ],
      "execution_count": null,
      "outputs": []
    },
    {
      "cell_type": "markdown",
      "metadata": {
        "id": "HMjvOoKgy6GX"
      },
      "source": [
        "This loads the static features and delays."
      ]
    },
    {
      "cell_type": "code",
      "metadata": {
        "id": "xMxbvmIY6Otz"
      },
      "source": [
        "USE_COORDS = False\n",
        "\n",
        "DELAY_COL = \"Initial Delay (mins)\"\n",
        "TEXT_COL = \"Fault Description\"\n",
        "\n",
        "if USE_COORDS:\n",
        "    feature_file = DATA_DIR + \"static_features_one_hot.csv\" #use \"static_features.csv\" for the original 22 features\n",
        "    incident_file = DATA_DIR + \"selected_incidents.csv\"\n",
        "    incident_df = pd.read_csv(incident_file)\n",
        "else:\n",
        "    feature_file = DATA_DIR + \"static_features_one_hot_no_coords.csv\" \n",
        "    incident_file = DATA_DIR + \"incident_reports_tab.txt\"\n",
        "    incident_df = pd.read_csv(incident_file, delimiter=\"\\t\", encoding='latin_1')\n",
        "\n",
        "\n",
        "static_features_df = pd.read_csv(feature_file, index_col=0)\n",
        "static_features = static_features_df.to_numpy()\n",
        "delays = incident_df[DELAY_COL].to_numpy()\n",
        "\n"
      ],
      "execution_count": null,
      "outputs": []
    },
    {
      "cell_type": "markdown",
      "metadata": {
        "id": "c9AFkORGG1M7"
      },
      "source": [
        "This cell filters out delays of 0 and greater than 120."
      ]
    },
    {
      "cell_type": "code",
      "metadata": {
        "id": "uy1lam4qdfIs"
      },
      "source": [
        "delay_mask = np.logical_and(delays > 0, delays <= 120)\n",
        "delays = delays[delay_mask]\n",
        "static_features = static_features[delay_mask]"
      ],
      "execution_count": null,
      "outputs": []
    },
    {
      "cell_type": "code",
      "metadata": {
        "id": "mOrIal_UW3wC",
        "colab": {
          "base_uri": "https://localhost:8080/",
          "height": 34
        },
        "outputId": "04c70dcd-fc5a-4df2-f172-38c88a105c07"
      },
      "source": [
        "print(np.count_nonzero(np.logical_and(delays > 0, delays <= 120)))"
      ],
      "execution_count": null,
      "outputs": [
        {
          "output_type": "stream",
          "text": [
            "18909\n"
          ],
          "name": "stdout"
        }
      ]
    },
    {
      "cell_type": "code",
      "metadata": {
        "id": "xINvmYqe6tyH",
        "colab": {
          "base_uri": "https://localhost:8080/",
          "height": 289
        },
        "outputId": "7d28b8d5-5a46-4ea5-c78d-b1544b76e8d9"
      },
      "source": [
        "print(static_features.shape)\n",
        "print(delays.shape)\n",
        "print(static_features_df)"
      ],
      "execution_count": null,
      "outputs": [
        {
          "output_type": "stream",
          "text": [
            "(18909, 354)\n",
            "(18909,)\n",
            "       Bakerloo  C&H  Central  ...  WOODFORD  WOODFORD SIDINGS  WOODSIDE PARK\n",
            "0             0    0        0  ...         0                 0              0\n",
            "1             0    0        1  ...         0                 0              0\n",
            "2             0    0        0  ...         0                 0              0\n",
            "3             0    0        1  ...         0                 0              0\n",
            "4             1    0        0  ...         0                 0              0\n",
            "...         ...  ...      ...  ...       ...               ...            ...\n",
            "23723         0    0        0  ...         0                 0              0\n",
            "23724         0    1        0  ...         0                 0              0\n",
            "23725         0    0        0  ...         0                 0              0\n",
            "23726         0    0        0  ...         0                 0              0\n",
            "23727         0    0        0  ...         0                 0              0\n",
            "\n",
            "[23728 rows x 354 columns]\n"
          ],
          "name": "stdout"
        }
      ]
    },
    {
      "cell_type": "markdown",
      "metadata": {
        "id": "ZCMCIEE7HA50"
      },
      "source": [
        "These next cells can be used to create LDA models"
      ]
    },
    {
      "cell_type": "code",
      "metadata": {
        "id": "tfms-KGRWczx"
      },
      "source": [
        "from gensim.models.ldamodel import LdaModel\n",
        "from gensim.sklearn_api import LdaTransformer\n",
        "from gensim.corpora.dictionary import Dictionary\n",
        "from gensim.parsing.preprocessing import preprocess_documents"
      ],
      "execution_count": null,
      "outputs": []
    },
    {
      "cell_type": "markdown",
      "metadata": {
        "id": "RNOw0SY4fY3g"
      },
      "source": [
        "Remove the delay from the text and tokenize it"
      ]
    },
    {
      "cell_type": "code",
      "metadata": {
        "id": "t2-dXMoabWS0"
      },
      "source": [
        "incident_index = pd.Index(incident_df[TEXT_COL][delay_mask])\n",
        "\n",
        "def remove_delay(text: str):\n",
        "    delay = delays[incident_index.get_loc(text)]\n",
        "    return text.replace(\" \" + str(delay) + \" \", \" \")\n",
        "\n",
        "text_without_delays = incident_df[TEXT_COL][delay_mask].apply(remove_delay).to_numpy()"
      ],
      "execution_count": null,
      "outputs": []
    },
    {
      "cell_type": "code",
      "metadata": {
        "id": "oEof4tQ0dwEX",
        "colab": {
          "base_uri": "https://localhost:8080/",
          "height": 156
        },
        "outputId": "a2c981b7-e6e7-427a-8067-529745a971d3"
      },
      "source": [
        "print(text_without_delays)"
      ],
      "execution_count": null,
      "outputs": [
        {
          "output_type": "stream",
          "text": [
            "['Delayed arrival - due to customer partialy accessing track. Station staff adv to attend WB. DIC. Details taken from DSR.'\n",
            " 'E402 was delayed after departing Liverpool Street station due to a low level Passenger Emergency Alarm being operated in car four. The train`s brakes were applied and E402 was stopped with four cars out of the platform. The Train Operator used the talkback facility, but there was no response and contacted the Service Controller who tasked Station Staff to attend and board the train via the last car to reset the PEA. Station Supervisors boarded the train the train as instructed and located a customer who admitted to accidentally operating the PEA. PEA was reset by the Train Operator. Station Staff left the train via the same door used to board and then closed it. E402 was then able to continue to Aldgate Low Level PEA accidentally operated in car four (24038) by customer. Station Staff in attendance. Reset by Train Operator.'\n",
            " 'At 03:12 hours eastbound Central line train 043 was delayed departing Leytonstone station after a male customer operated a number of Passenger Emergency Alarm (PEA). Leytonstone duty 831 the operator of train reported to the control centre that a PEA had been operated on the train and that he would be going to investigate the PEA operation. Train 043 was secured in Leytonstone platform. He requested Station staff to assist. Wood Lane control centre arranged for Leytonstone station staff to attend the platform to assist duty 831. Duty 831 found a number of PEA operated and re set them. Station staff asked customers if they saw anyone operation the PEAs The Station Supervisor asked the male (Danny) if he had operated the PEAs and why. The customer stated he had not operated the PEAs, Witnesses were asked for from customer on the platform if anyone had seen the operation of the PEAs. The witnesses pointed to the male customer. The station staff took the customer to one side to speak to him and advise him he could not use the train 043. He then walked very quickly towards the headwall on the eastbound platform. The station supervisor followed him to make sure he did not go on to the track. The male customer who had operated the PEAs then stopped a the entrance to the booking on centre and climbed over the gate from the platform. He tried to enter the accommodation but the door was locked as normal. He then climbed over the footbridge wall and dropped some 6 meters into the staff garden below sustaining a number of injuries. Ambulance call and staff gave first aid until it arrived first one arrived 03:36 crew J350 second ambulance arrived 04:06 crew J431 Male taken to Royal London Hospital with a broken leg and wrist Train 043 was delayed at Leytonstone by minutes because of a number of Passenger emergency alarm been operated on the train spuriously. Station staff EIRF attached 735318 Initial delay minutes Cause Passenger Action spurious operation of Passenger emergency alarms'\n",
            " ...\n",
            " 'Cat A1 SPaD 22:15 Eastbound services were delayed, after the T/Op of T323 passed signal L10b on the approach to Kings Cross at danger without prior authority. 22:16 Eastbound services were held in platforms 22:17 T/op asked to confirm how far passed L10b train had passed, t/op stated about 2 car lengths 22:20 T/Op was advised and authorized to change ends and carry out a wrong direction move back two cars, with T320 held at Russell Square protecting the move. Whilst this was being carried out T332 was reversed east to west at Hyde Park, and T240 was taken around at Hammersmith east to west. 22:27 On arrival at the west end of the train, the T/Op advised the Controller that she had No Forward Movement, and was advised to go through her checks, and confirm that she had reset the trip cock at the east end, which she had not. 22:29 The T/Op was authorized to cut out the round the train circuit and select slow speed, to move the train forward, which she did. 22:30 Move completed 22:36 The T/Op was then advised to cut round train back in and return to the east end cab, which she did. 22:38 Train on move east bound 22:39 On arrival in the platform she was met and assessed by staff, and was Ok to carry on, but a bit shakey. The train was further met at Manor House by the DRM, and the T/Op relieved at Arnos Grove. A delay of Minutes was recorded with trains reversed, reformed and cancelled in consequence. 15.10.2016 Memo supplied by train operator, root cause not fully established as train operator only had time to complete memo due to finishing time. 15.10.2016 Stood down letter issued 15.10.2016 Train download requested. Delay was extended due to a number of reasons: First how far train had passed signal, initial report was by 2 cars, when in fact it was no more than half a car. This would have reduce the delay as rather than a wrong directional move, set could have been used On changing ends the t/op forgot to reset the trip cock on the east end and did not get forward movement on the west end, assistance was sort from the controller by radio and t/op was advised to cut out the round train. Item passed to DRM so fact finding interview can be completed on Monday 24.10.2016 at 10:00'\n",
            " 'PART OF TRAIN WITHDRAWAL ONA. Empty to HMS DT and Cancelled. ONA. Empty to HMS DT and Cancelled. No call, No show from T/op. Marked Absent. All line spares fully utilised. HMS spares were as follows, 134, NCA. 135, Covering 119 Duty. 136, NCA.'\n",
            " 'Passenger action The train operator of E234 informed the service controller that a customer was interfering with train doors after platform duties were carried out and required assisted dispatch. Station staff arrived and the passenger removed. A delay of minutes. Passenger action, someone under influence of alcohol.']\n"
          ],
          "name": "stdout"
        }
      ]
    },
    {
      "cell_type": "code",
      "metadata": {
        "id": "y7nLt_JYgdxB"
      },
      "source": [
        "processed_text_without_delays = preprocess_documents(text_without_delays)\n",
        "#print(processed_text_without_delays)"
      ],
      "execution_count": null,
      "outputs": []
    },
    {
      "cell_type": "code",
      "metadata": {
        "id": "c9t81lAUkUop",
        "colab": {
          "base_uri": "https://localhost:8080/",
          "height": 34
        },
        "outputId": "2ffd2005-3127-4dd6-dc94-fb2cd937b273"
      },
      "source": [
        "print(processed_text_without_delays[0])"
      ],
      "execution_count": null,
      "outputs": [
        {
          "output_type": "stream",
          "text": [
            "['delai', 'arriv', 'custom', 'partiali', 'access', 'track', 'station', 'staff', 'adv', 'attend', 'dic', 'detail', 'taken', 'dsr']\n"
          ],
          "name": "stdout"
        }
      ]
    },
    {
      "cell_type": "code",
      "metadata": {
        "id": "98ADGEtsfrlT"
      },
      "source": [
        "dictionary = Dictionary(processed_text_without_delays)\n",
        "\n",
        "corpus = [dictionary.doc2bow(tokens) for tokens in processed_text_without_delays]"
      ],
      "execution_count": null,
      "outputs": []
    },
    {
      "cell_type": "code",
      "metadata": {
        "id": "qiu5Jym8gD4v"
      },
      "source": [
        "num_topics = 10\n",
        "lda_model = LdaTransformer(id2word=dictionary, alpha=\"auto\", num_topics=num_topics)\n",
        "\n",
        "# lda_features = lda_model.fit_transform(corpus)"
      ],
      "execution_count": null,
      "outputs": []
    },
    {
      "cell_type": "markdown",
      "metadata": {
        "id": "DvN91FEjfr6P"
      },
      "source": [
        "I saved the features I found from the grid search to this file."
      ]
    },
    {
      "cell_type": "code",
      "metadata": {
        "id": "Q_7Jx9-46wHK"
      },
      "source": [
        "lda_10_features_file = DATA_DIR + \"lda_features_ten_7_26_20.csv\"\n",
        "lda_20_features_file = DATA_DIR + \"lda_features_20_7_26_20.csv\""
      ],
      "execution_count": null,
      "outputs": []
    },
    {
      "cell_type": "code",
      "metadata": {
        "id": "SkiG_wXOUt2o"
      },
      "source": [
        "with open(lda_features_file, \"x\") as file:\n",
        "    np.savetxt(file, lda_features)"
      ],
      "execution_count": null,
      "outputs": []
    },
    {
      "cell_type": "code",
      "metadata": {
        "id": "nZK4VbUxgYrg",
        "colab": {
          "base_uri": "https://localhost:8080/",
          "height": 357
        },
        "outputId": "dc53d020-e98a-4637-fc9d-2242a2d05273"
      },
      "source": [
        "lda_model.gensim_model.show_topics()"
      ],
      "execution_count": null,
      "outputs": [
        {
          "output_type": "execute_result",
          "data": {
            "text/plain": [
              "[(0,\n",
              "  '0.098*\"ref\" + 0.047*\"stop\" + 0.047*\"esc\" + 0.046*\"apjnp\" + 0.041*\"lift\" + 0.038*\"srq\" + 0.029*\"servic\" + 0.025*\"non\" + 0.023*\"escal\" + 0.021*\"station\"'),\n",
              " (1,\n",
              "  '0.085*\"door\" + 0.055*\"train\" + 0.041*\"close\" + 0.033*\"open\" + 0.022*\"delai\" + 0.021*\"car\" + 0.019*\"depart\" + 0.019*\"station\" + 0.016*\"oper\" + 0.013*\"platform\"'),\n",
              " (2,\n",
              "  '0.071*\"train\" + 0.037*\"signal\" + 0.035*\"oper\" + 0.022*\"servic\" + 0.017*\"delai\" + 0.015*\"caus\" + 0.014*\"control\" + 0.013*\"incid\" + 0.011*\"investig\" + 0.010*\"eastbound\"'),\n",
              " (3,\n",
              "  '0.056*\"track\" + 0.040*\"current\" + 0.034*\"traction\" + 0.031*\"delai\" + 0.030*\"street\" + 0.029*\"train\" + 0.022*\"victoria\" + 0.018*\"platform\" + 0.018*\"protect\" + 0.018*\"switch\"'),\n",
              " (4,\n",
              "  '0.061*\"train\" + 0.048*\"custom\" + 0.031*\"station\" + 0.025*\"delai\" + 0.024*\"platform\" + 0.023*\"passeng\" + 0.022*\"staff\" + 0.019*\"pea\" + 0.017*\"oper\" + 0.017*\"depart\"'),\n",
              " (5,\n",
              "  '0.046*\"signal\" + 0.025*\"train\" + 0.023*\"clear\" + 0.023*\"delai\" + 0.019*\"line\" + 0.016*\"point\" + 0.016*\"servic\" + 0.015*\"fail\" + 0.015*\"track\" + 0.013*\"failur\"'),\n",
              " (6,\n",
              "  '0.109*\"train\" + 0.051*\"servic\" + 0.035*\"depot\" + 0.024*\"defect\" + 0.018*\"work\" + 0.018*\"car\" + 0.018*\"withdraw\" + 0.016*\"fault\" + 0.013*\"report\" + 0.013*\"detrain\"'),\n",
              " (7,\n",
              "  '0.087*\"train\" + 0.022*\"oper\" + 0.017*\"northbound\" + 0.017*\"park\" + 0.015*\"southbound\" + 0.015*\"control\" + 0.015*\"delai\" + 0.014*\"trip\" + 0.013*\"platform\" + 0.013*\"green\"'),\n",
              " (8,\n",
              "  '0.082*\"train\" + 0.043*\"delai\" + 0.035*\"oper\" + 0.024*\"depart\" + 0.022*\"minut\" + 0.020*\"servic\" + 0.019*\"time\" + 0.019*\"dtsm\" + 0.019*\"platform\" + 0.014*\"arriv\"'),\n",
              " (9,\n",
              "  '0.096*\"train\" + 0.080*\"duti\" + 0.063*\"spare\" + 0.049*\"oper\" + 0.046*\"avail\" + 0.045*\"cancel\" + 0.034*\"cover\" + 0.028*\"hammersmith\" + 0.025*\"withdraw\" + 0.024*\"depot\"')]"
            ]
          },
          "metadata": {
            "tags": []
          },
          "execution_count": 12
        }
      ]
    },
    {
      "cell_type": "markdown",
      "metadata": {
        "id": "o7rV8SbcgOtF"
      },
      "source": [
        "These cells get the RoBERTa embeddings and apply PCA to them."
      ]
    },
    {
      "cell_type": "code",
      "metadata": {
        "id": "HMplquyo460F"
      },
      "source": [
        "from sentence_transformers import SentenceTransformer"
      ],
      "execution_count": null,
      "outputs": []
    },
    {
      "cell_type": "code",
      "metadata": {
        "id": "L6oqM__p6-AH",
        "colab": {
          "base_uri": "https://localhost:8080/",
          "height": 34
        },
        "outputId": "1835ad23-4439-4012-f4cc-dfad04647b06"
      },
      "source": [
        "bert_model = SentenceTransformer(\"roberta-base-nli-mean-tokens\")"
      ],
      "execution_count": null,
      "outputs": [
        {
          "output_type": "stream",
          "text": [
            "100%|██████████| 459M/459M [00:26<00:00, 17.2MB/s]\n"
          ],
          "name": "stderr"
        }
      ]
    },
    {
      "cell_type": "code",
      "metadata": {
        "id": "tw805XRN8Yu0",
        "colab": {
          "base_uri": "https://localhost:8080/",
          "height": 66,
          "referenced_widgets": [
            "5c574a6a61aa4df1962bf1f918c688f4",
            "88c0bac3adc14d6e8f2d24e0e06f9a30",
            "d3b17f549a4e4a4893e6262bdeb157b9",
            "01dda733e6884bbc9e883aa98f997f54",
            "d07ee5c084964f2da3e9a7b4fd8b6316",
            "ba42d2968993473d885c2f1552199058",
            "ed004698fd5649499164149a0eebb65a",
            "b32ff0deb2ea46caa3963ac3b3591cea"
          ]
        },
        "outputId": "93f8b5c5-3192-4c43-adb7-f3dd3f246a17"
      },
      "source": [
        "bert_f_list = bert_model.encode(text_without_delays, batch_size=32, show_progress_bar=True)"
      ],
      "execution_count": null,
      "outputs": [
        {
          "output_type": "display_data",
          "data": {
            "application/vnd.jupyter.widget-view+json": {
              "model_id": "5c574a6a61aa4df1962bf1f918c688f4",
              "version_minor": 0,
              "version_major": 2
            },
            "text/plain": [
              "HBox(children=(FloatProgress(value=0.0, description='Batches', max=591.0, style=ProgressStyle(description_widt…"
            ]
          },
          "metadata": {
            "tags": []
          }
        },
        {
          "output_type": "stream",
          "text": [
            "\n"
          ],
          "name": "stdout"
        }
      ]
    },
    {
      "cell_type": "code",
      "metadata": {
        "id": "Z-Qi8M00ebhC",
        "colab": {
          "base_uri": "https://localhost:8080/",
          "height": 34
        },
        "outputId": "8f0c775a-b364-47f0-8d34-4dad51febf76"
      },
      "source": [
        "bert_features_full = np.transpose(np.column_stack(bert_f_list))\n",
        "\n",
        "print(bert_features_full.shape)"
      ],
      "execution_count": null,
      "outputs": [
        {
          "output_type": "stream",
          "text": [
            "(18909, 768)\n"
          ],
          "name": "stdout"
        }
      ]
    },
    {
      "cell_type": "code",
      "metadata": {
        "id": "Jpm0iYJOfmWH"
      },
      "source": [
        "bert_full_file = DATA_DIR + \"bert_features_full_7_26_20.csv\""
      ],
      "execution_count": null,
      "outputs": []
    },
    {
      "cell_type": "code",
      "metadata": {
        "id": "qwimIUijfpZB"
      },
      "source": [
        "with open(bert_full_file, \"x\") as file:\n",
        "    np.savetxt(file, bert_features_full)"
      ],
      "execution_count": null,
      "outputs": []
    },
    {
      "cell_type": "markdown",
      "metadata": {
        "id": "38dZDOes0DJH"
      },
      "source": [
        "This cell loads lda and BERT features from files."
      ]
    },
    {
      "cell_type": "code",
      "metadata": {
        "id": "BfkYw1-SvyyO"
      },
      "source": [
        "with open(bert_full_file) as file:\n",
        "    bert_features_full  = np.loadtxt(file)\n",
        "with open(lda_10_features_file) as file:\n",
        "    lda_10_features = np.loadtxt(file)\n",
        "with open(lda_20_features_file) as file:\n",
        "    lda_20_features = np.loadtxt(file)"
      ],
      "execution_count": null,
      "outputs": []
    },
    {
      "cell_type": "code",
      "metadata": {
        "id": "xxVMdM1FBPrz"
      },
      "source": [
        "num_bert_components = 32\n",
        "pca = PCA(num_bert_components)\n",
        "bert_features = pca.fit_transform(bert_features_full)"
      ],
      "execution_count": null,
      "outputs": []
    },
    {
      "cell_type": "markdown",
      "metadata": {
        "id": "U10_ohFfgomt"
      },
      "source": [
        "Here ia where the model testing is."
      ]
    },
    {
      "cell_type": "code",
      "metadata": {
        "id": "ZxEUmI9O8UPN"
      },
      "source": [
        "from sklearn.preprocessing import StandardScaler, scale\n",
        "from sklearn.pipeline import Pipeline\n",
        "from sklearn.linear_model import LinearRegression\n",
        "from sklearn.svm import SVR\n",
        "from sklearn.neural_network import MLPRegressor\n",
        "from sklearn.neighbors import KNeighborsRegressor\n",
        "from sklearn.tree import DecisionTreeRegressor\n",
        "from sklearn.ensemble import RandomForestRegressor\n",
        "from sklearn.model_selection import cross_val_score, cross_validate\n",
        "import sklearn.metrics\n",
        "from sklearn.model_selection import train_test_split"
      ],
      "execution_count": null,
      "outputs": []
    },
    {
      "cell_type": "code",
      "metadata": {
        "id": "ym5mT_Ny4IQN"
      },
      "source": [
        "static_lda_features = np.column_stack([static_features, lda_10_features])\n",
        "static_lda_bert_features = np.column_stack([static_features, lda_10_features, bert_features])\n",
        "scaled_static_lda_bert_features = scale(static_lda_bert_features)"
      ],
      "execution_count": null,
      "outputs": []
    },
    {
      "cell_type": "code",
      "metadata": {
        "id": "RQw5zbhJJt6l",
        "colab": {
          "base_uri": "https://localhost:8080/",
          "height": 34
        },
        "outputId": "b6117dc6-9772-4487-991c-16a14f96ea04"
      },
      "source": [
        "print(static_features.shape)"
      ],
      "execution_count": null,
      "outputs": [
        {
          "output_type": "stream",
          "text": [
            "(18909, 354)\n"
          ],
          "name": "stdout"
        }
      ]
    },
    {
      "cell_type": "code",
      "metadata": {
        "id": "NwAZJN6OBXxZ",
        "colab": {
          "base_uri": "https://localhost:8080/",
          "height": 255
        },
        "outputId": "70e91978-d4dd-48a0-e484-a5ed943f367e"
      },
      "source": [
        "print(bert_features.shape)\n",
        "print(bert_features)"
      ],
      "execution_count": null,
      "outputs": [
        {
          "output_type": "stream",
          "text": [
            "(18909, 32)\n",
            "[[-1.09412091  0.78044054  7.1870989  ... -0.47510479  1.04429641\n",
            "   0.15605558]\n",
            " [-2.7214045   1.83282107 -0.46022389 ...  0.83551366  1.02851003\n",
            "  -1.50766594]\n",
            " [-6.2776755   3.05515453 -0.40703806 ...  0.52123203  0.32052065\n",
            "  -0.15342243]\n",
            " ...\n",
            " [-3.30428426  0.88402292 -0.40145678 ...  0.11992886  0.38064178\n",
            "   0.7948666 ]\n",
            " [ 9.20408884  1.43828585 -7.37230998 ... -0.37399994 -0.81151418\n",
            "   0.19298334]\n",
            " [-4.91451091  2.66841531  2.43339478 ... -1.49958735  1.43817459\n",
            "  -0.3764382 ]]\n"
          ],
          "name": "stdout"
        }
      ]
    },
    {
      "cell_type": "code",
      "metadata": {
        "id": "RH7C3Osh4dXd",
        "colab": {
          "base_uri": "https://localhost:8080/",
          "height": 391
        },
        "outputId": "9554c834-d4f3-4df5-e352-2bb09bcf264e"
      },
      "source": [
        "print(static_lda_features.shape)\n",
        "print(static_lda_features)\n",
        "\n",
        "print(static_lda_bert_features.shape)\n",
        "print(static_lda_bert_features)"
      ],
      "execution_count": null,
      "outputs": [
        {
          "output_type": "stream",
          "text": [
            "(18909, 364)\n",
            "[[0.         0.         0.         ... 0.         0.         0.        ]\n",
            " [0.         0.         0.         ... 0.         0.         0.        ]\n",
            " [0.         0.         1.         ... 0.         0.         0.        ]\n",
            " ...\n",
            " [0.         0.         0.         ... 0.38638067 0.190428   0.        ]\n",
            " [0.         1.         0.         ... 0.         0.         0.        ]\n",
            " [0.         0.         0.         ... 0.         0.         0.        ]]\n",
            "(18909, 1132)\n",
            "[[ 0.          0.          0.         ... -2.55962038  0.34716728\n",
            "   0.96678364]\n",
            " [ 0.          0.          0.         ... -2.72907805  0.15614244\n",
            "   1.27267921]\n",
            " [ 0.          0.          1.         ... -2.37259173  0.19864403\n",
            "   1.23603284]\n",
            " ...\n",
            " [ 0.          0.          0.         ... -2.83527732  0.62750232\n",
            "   1.08321285]\n",
            " [ 0.          1.          0.         ... -2.85176849  0.48809683\n",
            "   0.66545552]\n",
            " [ 0.          0.          0.         ... -2.14675093  0.11174943\n",
            "   1.16286147]]\n"
          ],
          "name": "stdout"
        }
      ]
    },
    {
      "cell_type": "code",
      "metadata": {
        "id": "lkET0b5Anmh3"
      },
      "source": [
        "estimators = {\"LinearRegression\": LinearRegression, \"SVM\": SVR, \"MultiLayeredPerceptron\": MLPRegressor, \n",
        "              \"NearestNeighbors\": KNeighborsRegressor, \"DecisionTree\": DecisionTreeRegressor, \"RandomForest\": RandomForestRegressor}\n",
        "features = {\"Static\": static_features, \"LDA\": lda_10_features, \"BERT\": bert_features, \"Static+LDA\": static_lda_features, \"Static+LDA+BERT\":static_lda_bert_features}"
      ],
      "execution_count": null,
      "outputs": []
    },
    {
      "cell_type": "code",
      "metadata": {
        "id": "0a7qQ6NRbIs4"
      },
      "source": [
        "estim_feats_seen = {}"
      ],
      "execution_count": null,
      "outputs": []
    },
    {
      "cell_type": "markdown",
      "metadata": {
        "id": "mBAdFTjdg8SI"
      },
      "source": [
        "This will put the metrics and models trained into the results dict. See the doc for [cross_validate](https://scikit-learn.org/stable/modules/generated/sklearn.model_selection.cross_validate.html#sklearn.model_selection.cross_validate) for more info."
      ]
    },
    {
      "cell_type": "code",
      "metadata": {
        "id": "s0turOclDnQ2"
      },
      "source": [
        "LOG_DELAYS = False"
      ],
      "execution_count": null,
      "outputs": []
    },
    {
      "cell_type": "code",
      "metadata": {
        "id": "D74EVE_4DSp2"
      },
      "source": [
        "from sklearn.metrics import mean_absolute_error, mean_squared_error, make_scorer\n",
        "\n",
        "def mean_absolute_percentage_error(y_true, y_pred): \n",
        "    y_true, y_pred = np.array(y_true), np.array(y_pred)\n",
        "    return np.mean(np.abs((y_true - y_pred) / y_true)) * 100\n",
        "\n",
        "def exp_of(score_func):\n",
        "    return lambda y_true, y_pred: score_func(np.exp(y_true), np.exp(y_pred))\n",
        "\n",
        "mape_scorer = make_scorer(mean_absolute_percentage_error, greater_is_better=False)\n",
        "mae_scorer = \"neg_mean_absolute_error\"\n",
        "rmse_scorer = \"neg_root_mean_squared_error\"\n",
        "\n",
        "cnn_metrics = {\"neg_mean_absolute_error\": mae_scorer,\n",
        "               \"neg_root_mean_squared_error\": rmse_scorer,\n",
        "               \"neg_mean_absolute_percentage_error\": mape_scorer}\n",
        "\n",
        "if LOG_DELAYS:\n",
        "    mape_scorer = make_scorer(exp_of(mean_absolute_percentage_error), greater_is_better=False)\n",
        "    mae_scorer = make_scorer(exp_of(mean_absolute_error), greater_is_better=False)\n",
        "    rmse_scorer = make_scorer(exp_of(lambda y_true, y_pred: mean_squared_error(y_true, y_pred, squared=False)),\n",
        "                              greater_is_better=False)\n",
        "\n",
        "regression_metrics = {\"neg_mean_absolute_error\": mae_scorer,\n",
        "               \"neg_root_mean_squared_error\": rmse_scorer,\n",
        "               \"neg_mean_absolute_percentage_error\": mape_scorer}\n",
        "\n",
        "delays_to_use = np.log(delays) if LOG_DELAYS else delays"
      ],
      "execution_count": null,
      "outputs": []
    },
    {
      "cell_type": "code",
      "metadata": {
        "id": "sHGo86dBvkMz"
      },
      "source": [
        "results = {}"
      ],
      "execution_count": null,
      "outputs": []
    },
    {
      "cell_type": "markdown",
      "metadata": {
        "id": "J8wBkJ7HIfDf"
      },
      "source": [
        "This cell computes cross validated metrics using all the data."
      ]
    },
    {
      "cell_type": "code",
      "metadata": {
        "id": "F2bhb8jb9jBe",
        "colab": {
          "base_uri": "https://localhost:8080/",
          "height": 1000
        },
        "outputId": "53189324-5580-4a7e-9b24-1954897ac0cf"
      },
      "source": [
        "def output_score(metric, score):\n",
        "  out = score.mean()\n",
        "  if \"neg\" in metric:\n",
        "    out *= -1\n",
        "  return out\n",
        "\n",
        "\n",
        "for estimator_name, estimator in estimators.items():\n",
        "    if estimator_name not in estim_feats_seen:\n",
        "        estim_feats_seen[estimator_name] = set()\n",
        "    for feature_name, feature in features.items():\n",
        "        if feature_name in estim_feats_seen[estimator_name]:\n",
        "            continue\n",
        "        if estimator_name not in results:\n",
        "            results[estimator_name] = {}\n",
        "        print(\"Evaluating\", estimator_name, \"on\", feature_name)\n",
        "        regression_model = Pipeline([(\"scaler\", StandardScaler()), (\"estimator\", estimator())])\n",
        "        scores = cross_validate(regression_model, feature, delays_to_use, cv=10, \n",
        "                                scoring=regression_metrics, return_estimator=False,\n",
        "                                return_train_score=False)\n",
        "        results[estimator_name][feature_name] = scores\n",
        "        estim_feats_seen[estimator_name].add(feature_name)\n",
        "        print(estimator_name, \",\", feature_name, \":\", {metric: output_score(metric, score)\n",
        "                          for (metric, score) in scores.items() if metric != \"estimator\"})"
      ],
      "execution_count": null,
      "outputs": [
        {
          "output_type": "stream",
          "text": [
            "Evaluating LinearRegression on Static\n",
            "LinearRegression , Static : {'fit_time': 0.6723864555358887, 'score_time': 0.00689239501953125, 'test_neg_mean_absolute_error': 2.937187850262393, 'test_neg_root_mean_squared_error': 7.815545020912561, 'test_neg_mean_absolute_percentage_error': 50.68406403251593}\n",
            "Evaluating LinearRegression on LDA\n",
            "LinearRegression , LDA : {'fit_time': 0.013875102996826172, 'score_time': 0.0018161773681640626, 'test_neg_mean_absolute_error': 3.044529960624857, 'test_neg_root_mean_squared_error': 7.8334300012713145, 'test_neg_mean_absolute_percentage_error': 54.45780715641979}\n",
            "Evaluating LinearRegression on BERT\n",
            "LinearRegression , BERT : {'fit_time': 0.036916279792785646, 'score_time': 0.002807164192199707, 'test_neg_mean_absolute_error': 3.0212732235037087, 'test_neg_root_mean_squared_error': 7.8035590754793445, 'test_neg_mean_absolute_percentage_error': 52.25044259585892}\n",
            "Evaluating LinearRegression on Static+LDA\n",
            "LinearRegression , Static+LDA : {'fit_time': 0.7019706964492798, 'score_time': 0.007127785682678222, 'test_neg_mean_absolute_error': 2.870688715146609, 'test_neg_root_mean_squared_error': 7.565001107109883, 'test_neg_mean_absolute_percentage_error': 50.28792891034799}\n",
            "Evaluating LinearRegression on Static+LDA+BERT\n",
            "LinearRegression , Static+LDA+BERT : {'fit_time': 0.7864522218704224, 'score_time': 0.007610487937927246, 'test_neg_mean_absolute_error': 2.8434051335239467, 'test_neg_root_mean_squared_error': 7.415075111068129, 'test_neg_mean_absolute_percentage_error': 49.35377746267268}\n",
            "Evaluating SVM on Static\n",
            "SVM , Static : {'fit_time': 125.36601610183716, 'score_time': 11.463027143478394, 'test_neg_mean_absolute_error': 2.8545610314842125, 'test_neg_root_mean_squared_error': 7.8079149311721805, 'test_neg_mean_absolute_percentage_error': 48.156332384073565}\n",
            "Evaluating SVM on LDA\n",
            "SVM , LDA : {'fit_time': 17.168894982337953, 'score_time': 0.9246951580047608, 'test_neg_mean_absolute_error': 2.960481900701658, 'test_neg_root_mean_squared_error': 7.6128841828484415, 'test_neg_mean_absolute_percentage_error': 51.467456413550714}\n",
            "Evaluating SVM on BERT\n",
            "SVM , BERT : {'fit_time': 54.240550708770755, 'score_time': 1.5702177047729493, 'test_neg_mean_absolute_error': 2.9183862797491824, 'test_neg_root_mean_squared_error': 7.55038073068866, 'test_neg_mean_absolute_percentage_error': 48.82383384072384}\n",
            "Evaluating SVM on Static+LDA\n",
            "SVM , Static+LDA : {'fit_time': 130.168474984169, 'score_time': 11.360202717781068, 'test_neg_mean_absolute_error': 2.79691103947175, 'test_neg_root_mean_squared_error': 7.677086767472053, 'test_neg_mean_absolute_percentage_error': 47.16057374126219}\n",
            "Evaluating SVM on Static+LDA+BERT\n",
            "SVM , Static+LDA+BERT : {'fit_time': 253.58208453655243, 'score_time': 12.466559720039367, 'test_neg_mean_absolute_error': 2.738352257604293, 'test_neg_root_mean_squared_error': 7.556949676913388, 'test_neg_mean_absolute_percentage_error': 45.20107412334822}\n",
            "Evaluating MultiLayeredPerceptron on Static\n"
          ],
          "name": "stdout"
        },
        {
          "output_type": "stream",
          "text": [
            "/usr/local/lib/python3.6/dist-packages/sklearn/neural_network/_multilayer_perceptron.py:571: ConvergenceWarning: Stochastic Optimizer: Maximum iterations (200) reached and the optimization hasn't converged yet.\n",
            "  % self.max_iter, ConvergenceWarning)\n",
            "/usr/local/lib/python3.6/dist-packages/sklearn/neural_network/_multilayer_perceptron.py:571: ConvergenceWarning: Stochastic Optimizer: Maximum iterations (200) reached and the optimization hasn't converged yet.\n",
            "  % self.max_iter, ConvergenceWarning)\n",
            "/usr/local/lib/python3.6/dist-packages/sklearn/neural_network/_multilayer_perceptron.py:571: ConvergenceWarning: Stochastic Optimizer: Maximum iterations (200) reached and the optimization hasn't converged yet.\n",
            "  % self.max_iter, ConvergenceWarning)\n"
          ],
          "name": "stderr"
        },
        {
          "output_type": "stream",
          "text": [
            "MultiLayeredPerceptron , Static : {'fit_time': 57.9887017250061, 'score_time': 0.014963746070861816, 'test_neg_mean_absolute_error': 3.9679201291293884, 'test_neg_root_mean_squared_error': 9.316710920615417, 'test_neg_mean_absolute_percentage_error': 78.5988147556814}\n",
            "Evaluating MultiLayeredPerceptron on LDA\n",
            "MultiLayeredPerceptron , LDA : {'fit_time': 13.50596580505371, 'score_time': 0.005178022384643555, 'test_neg_mean_absolute_error': 2.988625401107381, 'test_neg_root_mean_squared_error': 7.475492791173562, 'test_neg_mean_absolute_percentage_error': 53.92236278388492}\n",
            "Evaluating MultiLayeredPerceptron on BERT\n"
          ],
          "name": "stdout"
        },
        {
          "output_type": "stream",
          "text": [
            "/usr/local/lib/python3.6/dist-packages/sklearn/neural_network/_multilayer_perceptron.py:571: ConvergenceWarning: Stochastic Optimizer: Maximum iterations (200) reached and the optimization hasn't converged yet.\n",
            "  % self.max_iter, ConvergenceWarning)\n",
            "/usr/local/lib/python3.6/dist-packages/sklearn/neural_network/_multilayer_perceptron.py:571: ConvergenceWarning: Stochastic Optimizer: Maximum iterations (200) reached and the optimization hasn't converged yet.\n",
            "  % self.max_iter, ConvergenceWarning)\n",
            "/usr/local/lib/python3.6/dist-packages/sklearn/neural_network/_multilayer_perceptron.py:571: ConvergenceWarning: Stochastic Optimizer: Maximum iterations (200) reached and the optimization hasn't converged yet.\n",
            "  % self.max_iter, ConvergenceWarning)\n",
            "/usr/local/lib/python3.6/dist-packages/sklearn/neural_network/_multilayer_perceptron.py:571: ConvergenceWarning: Stochastic Optimizer: Maximum iterations (200) reached and the optimization hasn't converged yet.\n",
            "  % self.max_iter, ConvergenceWarning)\n",
            "/usr/local/lib/python3.6/dist-packages/sklearn/neural_network/_multilayer_perceptron.py:571: ConvergenceWarning: Stochastic Optimizer: Maximum iterations (200) reached and the optimization hasn't converged yet.\n",
            "  % self.max_iter, ConvergenceWarning)\n",
            "/usr/local/lib/python3.6/dist-packages/sklearn/neural_network/_multilayer_perceptron.py:571: ConvergenceWarning: Stochastic Optimizer: Maximum iterations (200) reached and the optimization hasn't converged yet.\n",
            "  % self.max_iter, ConvergenceWarning)\n",
            "/usr/local/lib/python3.6/dist-packages/sklearn/neural_network/_multilayer_perceptron.py:571: ConvergenceWarning: Stochastic Optimizer: Maximum iterations (200) reached and the optimization hasn't converged yet.\n",
            "  % self.max_iter, ConvergenceWarning)\n"
          ],
          "name": "stderr"
        },
        {
          "output_type": "stream",
          "text": [
            "MultiLayeredPerceptron , BERT : {'fit_time': 23.773118257522583, 'score_time': 0.005416607856750489, 'test_neg_mean_absolute_error': 3.2386190636994465, 'test_neg_root_mean_squared_error': 7.4985547654079365, 'test_neg_mean_absolute_percentage_error': 59.65601882392095}\n",
            "Evaluating MultiLayeredPerceptron on Static+LDA\n"
          ],
          "name": "stdout"
        },
        {
          "output_type": "stream",
          "text": [
            "/usr/local/lib/python3.6/dist-packages/sklearn/neural_network/_multilayer_perceptron.py:571: ConvergenceWarning: Stochastic Optimizer: Maximum iterations (200) reached and the optimization hasn't converged yet.\n",
            "  % self.max_iter, ConvergenceWarning)\n",
            "/usr/local/lib/python3.6/dist-packages/sklearn/neural_network/_multilayer_perceptron.py:571: ConvergenceWarning: Stochastic Optimizer: Maximum iterations (200) reached and the optimization hasn't converged yet.\n",
            "  % self.max_iter, ConvergenceWarning)\n"
          ],
          "name": "stderr"
        },
        {
          "output_type": "stream",
          "text": [
            "MultiLayeredPerceptron , Static+LDA : {'fit_time': 56.7226448059082, 'score_time': 0.014211487770080567, 'test_neg_mean_absolute_error': 3.8184721584790267, 'test_neg_root_mean_squared_error': 9.01158532545183, 'test_neg_mean_absolute_percentage_error': 73.5036518017478}\n",
            "Evaluating MultiLayeredPerceptron on Static+LDA+BERT\n",
            "MultiLayeredPerceptron , Static+LDA+BERT : {'fit_time': 46.797099351882935, 'score_time': 0.014918875694274903, 'test_neg_mean_absolute_error': 3.7005885474662827, 'test_neg_root_mean_squared_error': 8.56587450944218, 'test_neg_mean_absolute_percentage_error': 71.18221779837305}\n",
            "Evaluating NearestNeighbors on Static\n",
            "NearestNeighbors , Static : {'fit_time': 1.5595648288726807, 'score_time': 8.159285688400269, 'test_neg_mean_absolute_error': 3.099593139956125, 'test_neg_root_mean_squared_error': 7.88732622321273, 'test_neg_mean_absolute_percentage_error': 55.72078887748743}\n",
            "Evaluating NearestNeighbors on LDA\n",
            "NearestNeighbors , LDA : {'fit_time': 0.3699813365936279, 'score_time': 0.1693169355392456, 'test_neg_mean_absolute_error': 3.187663710543291, 'test_neg_root_mean_squared_error': 7.6031693997584044, 'test_neg_mean_absolute_percentage_error': 58.40348460337026}\n",
            "Evaluating NearestNeighbors on BERT\n",
            "NearestNeighbors , BERT : {'fit_time': 0.08138432502746581, 'score_time': 2.558717060089111, 'test_neg_mean_absolute_error': 3.0804040445613676, 'test_neg_root_mean_squared_error': 7.66998278340635, 'test_neg_mean_absolute_percentage_error': 54.488775201920454}\n",
            "Evaluating NearestNeighbors on Static+LDA\n",
            "NearestNeighbors , Static+LDA : {'fit_time': 1.5657967329025269, 'score_time': 9.030068182945252, 'test_neg_mean_absolute_error': 3.000016359110826, 'test_neg_root_mean_squared_error': 7.761830380916504, 'test_neg_mean_absolute_percentage_error': 52.95309183907582}\n",
            "Evaluating NearestNeighbors on Static+LDA+BERT\n",
            "NearestNeighbors , Static+LDA+BERT : {'fit_time': 1.6360049962997436, 'score_time': 13.004752039909363, 'test_neg_mean_absolute_error': 2.942678732077791, 'test_neg_root_mean_squared_error': 7.667761855059584, 'test_neg_mean_absolute_percentage_error': 51.813512192271084}\n",
            "Evaluating DecisionTree on Static\n",
            "DecisionTree , Static : {'fit_time': 1.0893239021301269, 'score_time': 0.006872749328613282, 'test_neg_mean_absolute_error': 4.630397421880961, 'test_neg_root_mean_squared_error': 11.253202208077186, 'test_neg_mean_absolute_percentage_error': 96.029526609449}\n",
            "Evaluating DecisionTree on LDA\n",
            "DecisionTree , LDA : {'fit_time': 0.13129980564117433, 'score_time': 0.0019711017608642577, 'test_neg_mean_absolute_error': 4.367931698255123, 'test_neg_root_mean_squared_error': 10.108203609646768, 'test_neg_mean_absolute_percentage_error': 88.81979683536674}\n",
            "Evaluating DecisionTree on BERT\n",
            "DecisionTree , BERT : {'fit_time': 0.9217088222503662, 'score_time': 0.002520179748535156, 'test_neg_mean_absolute_error': 4.689305100683351, 'test_neg_root_mean_squared_error': 10.810114215202313, 'test_neg_mean_absolute_percentage_error': 99.12573534564216}\n",
            "Evaluating DecisionTree on Static+LDA\n",
            "DecisionTree , Static+LDA : {'fit_time': 0.9226108312606811, 'score_time': 0.007027339935302734, 'test_neg_mean_absolute_error': 4.063130366900859, 'test_neg_root_mean_squared_error': 9.746033215127259, 'test_neg_mean_absolute_percentage_error': 79.15573402627989}\n",
            "Evaluating DecisionTree on Static+LDA+BERT\n",
            "DecisionTree , Static+LDA+BERT : {'fit_time': 2.1892088890075683, 'score_time': 0.007656526565551758, 'test_neg_mean_absolute_error': 4.086409055425449, 'test_neg_root_mean_squared_error': 9.600754267679921, 'test_neg_mean_absolute_percentage_error': 80.97561004154369}\n",
            "Evaluating RandomForest on Static\n",
            "RandomForest , Static : {'fit_time': 56.114959025382994, 'score_time': 0.0757021427154541, 'test_neg_mean_absolute_error': 2.9443812669364897, 'test_neg_root_mean_squared_error': 7.841645143268819, 'test_neg_mean_absolute_percentage_error': 51.3535647810569}\n",
            "Evaluating RandomForest on LDA\n",
            "RandomForest , LDA : {'fit_time': 7.925829696655273, 'score_time': 0.07607314586639405, 'test_neg_mean_absolute_error': 3.1262046441561604, 'test_neg_root_mean_squared_error': 7.513387810709513, 'test_neg_mean_absolute_percentage_error': 57.22963072709905}\n",
            "Evaluating RandomForest on BERT\n",
            "RandomForest , BERT : {'fit_time': 55.10118200778961, 'score_time': 0.07201676368713379, 'test_neg_mean_absolute_error': 2.9518135275534236, 'test_neg_root_mean_squared_error': 7.677868488385367, 'test_neg_mean_absolute_percentage_error': 51.10123802288024}\n",
            "Evaluating RandomForest on Static+LDA\n",
            "RandomForest , Static+LDA : {'fit_time': 52.157682585716245, 'score_time': 0.07329049110412597, 'test_neg_mean_absolute_error': 2.765514900788598, 'test_neg_root_mean_squared_error': 7.243046569779365, 'test_neg_mean_absolute_percentage_error': 47.21976857404009}\n",
            "Evaluating RandomForest on Static+LDA+BERT\n",
            "RandomForest , Static+LDA+BERT : {'fit_time': 122.98585431575775, 'score_time': 0.08044250011444092, 'test_neg_mean_absolute_error': 2.734900638264077, 'test_neg_root_mean_squared_error': 7.095732377189104, 'test_neg_mean_absolute_percentage_error': 46.88014965137243}\n"
          ],
          "name": "stdout"
        }
      ]
    },
    {
      "cell_type": "markdown",
      "metadata": {
        "id": "FmSrB-64Ilez"
      },
      "source": [
        "This cell computes (true, pred) pairs."
      ]
    },
    {
      "cell_type": "code",
      "metadata": {
        "id": "BCyEe_jjc-xA"
      },
      "source": [
        "y_results = {}\n",
        "mape_results = {}\n",
        "for estimator_name, estimator in estimators.items():\n",
        "    if estimator_name not in y_results:\n",
        "            y_results[estimator_name] = {}\n",
        "            mape_results[estimator_name] = {}\n",
        "    for feature_name, feature in features.items():\n",
        "        print(\"Evaluating\", estimator_name, \"on\", feature_name)\n",
        "        X_train, X_test, y_train, y_test = train_test_split(feature, delays_to_use, test_size=0.1)\n",
        "        regression_model = Pipeline([(\"scaler\", StandardScaler()), (\"estimator\", estimator())])\n",
        "        regression_model.fit(X_train, y_train)\n",
        "        y_pred = regression_model.predict(X_test)\n",
        "        if LOG_DELAYS:\n",
        "            y_test = np.exp(y_test)\n",
        "            y_pred = np.exp(y_pred)\n",
        "        mape = mean_absolute_percentage_error(y_test, y_pred)\n",
        "        pairs = [true_pred_pair for true_pred_pair in \n",
        "                 zip(y_test.tolist(), y_pred.tolist())]\n",
        "        print(mape, pairs)\n",
        "        y_results[estimator_name][feature_name] = pairs\n",
        "        mape_results[estimator_name][feature_name] = mape"
      ],
      "execution_count": null,
      "outputs": []
    },
    {
      "cell_type": "code",
      "metadata": {
        "id": "Gx9Pae6qVtVS"
      },
      "source": [
        "log_y_values_file = DIR + \"delay_prediction/true_pred_results_delays.json\"\n",
        "\n",
        "with open(log_y_values_file, \"x\") as file:\n",
        "    json.dump(y_results, file)"
      ],
      "execution_count": null,
      "outputs": []
    },
    {
      "cell_type": "markdown",
      "metadata": {
        "id": "UJiLr6NIhctn"
      },
      "source": [
        "These next two cells saved the MAE, RMSE, and MAPE scores to csv files."
      ]
    },
    {
      "cell_type": "code",
      "metadata": {
        "id": "VAnuJb2kL7jM",
        "colab": {
          "base_uri": "https://localhost:8080/",
          "height": 425
        },
        "outputId": "6e98d3b4-f840-4fb2-c735-dde55c382a47"
      },
      "source": [
        "mae_results = {}\n",
        "rmse_results = {}\n",
        "mape_results = {}\n",
        "for estimator in results:\n",
        "  mae_results[estimator] = {}\n",
        "  mape_results[estimator] = {}\n",
        "  rmse_results[estimator] = {}\n",
        "  for feat in results[estimator]:\n",
        "    mae_results[estimator][feat] = results[estimator][feat][\"test_neg_mean_absolute_error\"].mean() * -1\n",
        "    rmse_results[estimator][feat] = results[estimator][feat][\"test_neg_root_mean_squared_error\"].mean() * -1\n",
        "    mape_results[estimator][feat] = results[estimator][feat][\"test_neg_mean_absolute_percentage_error\"].mean() * -1\n",
        "mae_results_df = pd.DataFrame.from_dict(mae_results)\n",
        "rmse_results_df = pd.DataFrame.from_dict(rmse_results)\n",
        "mape_results_df = pd.DataFrame.from_dict(mape_results)\n",
        "print(mae_results_df)\n",
        "print(rmse_results_df)\n",
        "print(mape_results_df)"
      ],
      "execution_count": null,
      "outputs": [
        {
          "output_type": "stream",
          "text": [
            "                 LinearRegression       SVM  ...  DecisionTree  RandomForest\n",
            "Static                   2.937188  2.854561  ...      4.630397      2.944381\n",
            "LDA                      3.044530  2.960482  ...      4.367932      3.126205\n",
            "BERT                     3.021273  2.918386  ...      4.689305      2.951814\n",
            "Static+LDA               2.870689  2.796911  ...      4.063130      2.765515\n",
            "Static+LDA+BERT          2.843405  2.738352  ...      4.086409      2.734901\n",
            "\n",
            "[5 rows x 6 columns]\n",
            "                 LinearRegression       SVM  ...  DecisionTree  RandomForest\n",
            "Static                   7.815545  7.807915  ...     11.253202      7.841645\n",
            "LDA                      7.833430  7.612884  ...     10.108204      7.513388\n",
            "BERT                     7.803559  7.550381  ...     10.810114      7.677868\n",
            "Static+LDA               7.565001  7.677087  ...      9.746033      7.243047\n",
            "Static+LDA+BERT          7.415075  7.556950  ...      9.600754      7.095732\n",
            "\n",
            "[5 rows x 6 columns]\n",
            "                 LinearRegression        SVM  ...  DecisionTree  RandomForest\n",
            "Static                  50.684064  48.156332  ...     96.029527     51.353565\n",
            "LDA                     54.457807  51.467456  ...     88.819797     57.229631\n",
            "BERT                    52.250443  48.823834  ...     99.125735     51.101238\n",
            "Static+LDA              50.287929  47.160574  ...     79.155734     47.219769\n",
            "Static+LDA+BERT         49.353777  45.201074  ...     80.975610     46.880150\n",
            "\n",
            "[5 rows x 6 columns]\n"
          ],
          "name": "stdout"
        }
      ]
    },
    {
      "cell_type": "code",
      "metadata": {
        "id": "kCRpSfmOM5Kp"
      },
      "source": [
        "#mae_results_df.to_csv(DIR + \"delay_prediction/mean_mae_scores_log_delays_from_0_to_120_7_31_20.csv\")\n",
        "#rmse_results_df.to_csv(DIR + \"delay_prediction/mean_rmse_scores_log_delays_from_0_to_120_7_31_20.csv\")\n",
        "#mape_results_df.to_csv(DIR + \"delay_prediction/mean_mape_scores_delays_from_0_to_120_7_3_20.csv\")"
      ],
      "execution_count": null,
      "outputs": []
    },
    {
      "cell_type": "markdown",
      "metadata": {
        "id": "u4gvoUJtKYjn"
      },
      "source": [
        "Applying CNNs to the features"
      ]
    },
    {
      "cell_type": "code",
      "metadata": {
        "id": "QTzkO1EXVA8_",
        "colab": {
          "base_uri": "https://localhost:8080/",
          "height": 51
        },
        "outputId": "f41aaf1e-5ce0-47fb-de2a-272be4881b0b"
      },
      "source": [
        "import torch.nn as nn\n",
        "from skorch import NeuralNetRegressor\n",
        "\n",
        "num_features = static_lda_bert_features.shape[1]\n",
        "print(num_features)\n",
        "num_static_features = static_features.shape[1]\n",
        "print(num_static_features)"
      ],
      "execution_count": null,
      "outputs": [
        {
          "output_type": "stream",
          "text": [
            "396\n",
            "354\n"
          ],
          "name": "stdout"
        }
      ]
    },
    {
      "cell_type": "code",
      "metadata": {
        "id": "_RSHkVHoaEmF"
      },
      "source": [
        "lda_tensor_dict = {10: torch.tensor(lda_10_features, device=device, dtype=torch.float),\n",
        "                   20: torch.tensor(lda_20_features, device=device, dtype=torch.float)}\n",
        "bert_tensor_dict = {768: torch.tensor(bert_features, device=device, dtype=torch.float), \n",
        "                    384: torch.tensor(bert_features_half, device=device, dtype=torch.float)}\n",
        "static_feature_tensor = torch.tensor(static_features, device=device, dtype=torch.float)"
      ],
      "execution_count": null,
      "outputs": []
    },
    {
      "cell_type": "code",
      "metadata": {
        "id": "dVcDMHKoWZ8r"
      },
      "source": [
        "class Featurizer():\n",
        "    def __init__(self, num_lda_topics = 10, num_bert_components = 768,\n",
        "                 do_scale=True, order=\"slb\"):\n",
        "        self.num_lda_topics = num_lda_topics\n",
        "        self.num_bert_components = num_bert_components\n",
        "        self.num_static_features = static_feature_tensor.size()[1]\n",
        "        self.do_scale = do_scale\n",
        "        self.order = order\n",
        "        \n",
        "        char_to_feats = {\"s\": static_feature_tensor, \n",
        "                             \"l\": lda_tensor_dict[num_lda_topics],\n",
        "                             \"b\": bert_tensor_dict[num_bert_components]}\n",
        "\n",
        "        ordered_feature_list = [char_to_feats[char] for char in self.order]\n",
        "        features = torch.cat(ordered_feature_list, dim=1)\n",
        "        if self.do_scale:\n",
        "            features = torch.tensor(scale(features.cpu()), dtype=torch.float, device=device)\n",
        "        features = features.view(len(features), 1, -1)\n",
        "        self.features = features\n",
        "\n",
        "    def feature_size(self):\n",
        "        return self.num_static_features + self.num_lda_topics + self.num_bert_components\n",
        "\n",
        "    def __call__(self, indices: torch.Tensor) -> torch.Tensor:\n",
        "        #indices is an numpy array of batch indices\n",
        "        return self.features[indices]"
      ],
      "execution_count": null,
      "outputs": []
    },
    {
      "cell_type": "code",
      "metadata": {
        "id": "Z3gswlJvVODf"
      },
      "source": [
        "class CNN(nn.Module):\n",
        "    def __init__(self, num_convs: int = 1, num_linears: int = 1,\n",
        "                 pool: str = None, feature_length = num_features,\n",
        "                 log_delays=False, **featurizer_params) -> None:\n",
        "        super(CNN, self).__init__()\n",
        "        self.featurizer = Featurizer(**featurizer_params)\n",
        "        feature_length = self.featurizer.feature_size()\n",
        "        print(\"num_convs:\", num_convs, \"num_linears:\", num_linears,\n",
        "              \"pool:\", pool, featurizer_params)\n",
        "        conv_list = []\n",
        "        in_channels = 1\n",
        "        out_channels = 32\n",
        "        kernel_size = 3\n",
        "        pool_kernel_stride = 2\n",
        "        for i in range(num_convs):\n",
        "            conv_list.append(nn.Conv1d(in_channels, out_channels, kernel_size))\n",
        "            conv_list.append(nn.ReLU())\n",
        "            feature_length = feature_length - (kernel_size - 1)\n",
        "            if pool == \"after_each\":\n",
        "                conv_list.append(nn.MaxPool1d(pool_kernel_stride))\n",
        "                numerator = feature_length - (pool_kernel_stride - 1) - 1\n",
        "                feature_length = int((numerator / pool_kernel_stride) + 1)\n",
        "            in_channels = out_channels\n",
        "            out_channels *= 2\n",
        "        if pool == \"after_all\":\n",
        "            conv_list.append(nn.MaxPool1d(pool_kernel_stride))\n",
        "            numerator = feature_length - (pool_kernel_stride - 1) - 1\n",
        "            feature_length = int((numerator / pool_kernel_stride) + 1)\n",
        "        self.conv_layers = nn.Sequential(*conv_list)\n",
        "        linear_features = feature_length * in_channels\n",
        "        linear_list = []\n",
        "        for i in range(num_linears - 1):\n",
        "            linear_list.append(nn.Linear(linear_features, linear_features//10))\n",
        "            linear_list.append(nn.ReLU())\n",
        "            linear_features = linear_features//10\n",
        "        linear_list.append(nn.Linear(linear_features, 1))\n",
        "        self.linear_layers = nn.Sequential(*linear_list)\n",
        "\n",
        "        self.log_delays = log_delays\n",
        "\n",
        "    def forward(self, features: torch.Tensor) -> torch.Tensor:\n",
        "        features = self.featurizer(features)\n",
        "        convolved_out = self.conv_layers(features)\n",
        "        #print(convolved_out.size())\n",
        "        flattened_out = convolved_out.view(convolved_out.size()[0], -1)\n",
        "        #print(flattened_out.size())\n",
        "        predicted_delay = self.linear_layers(flattened_out)\n",
        "        if self.log_delays:\n",
        "            predicted_delay = torch.exp(predicted_delay)\n",
        "        return predicted_delay\n"
      ],
      "execution_count": null,
      "outputs": []
    },
    {
      "cell_type": "code",
      "metadata": {
        "id": "-QNVZUKohnOP"
      },
      "source": [
        "class LogHuberLoss(nn.SmoothL1Loss):\n",
        "    def __init__(self, **huber_params) -> None:\n",
        "        super(LogHuberLoss, self).__init__(**huber_params)\n",
        "    \n",
        "    def forward(self, input: torch.Tensor, target: torch.Tensor) -> torch.Tensor:\n",
        "        return super().forward(torch.log(input), torch.log(target))"
      ],
      "execution_count": null,
      "outputs": []
    },
    {
      "cell_type": "code",
      "metadata": {
        "id": "_vbqUB-7kP5-",
        "colab": {
          "base_uri": "https://localhost:8080/",
          "height": 34
        },
        "outputId": "8e208e03-7fdb-4411-9f77-41bb0f43e3a3"
      },
      "source": [
        "delays_to_use = delays.copy()\n",
        "scaled_static_lda_bert_features_to_use = scaled_static_lda_bert_features\n",
        "delays_to_use.shape = (-1, 1)\n",
        "print(delays_to_use.shape, scaled_static_lda_bert_features_to_use.shape)\n",
        "delay_tensor = torch.tensor(delays_to_use, dtype=torch.float)\n",
        "\n",
        "\"\"\"num_reports = len(scaled_static_lda_bert_features_to_use)\n",
        "scaled_static_lda_bert_features_to_use.shape = (num_reports, 1, -1)\n",
        "feature_tensor = torch.tensor(scaled_static_lda_bert_features_to_use, dtype=torch.float)\n",
        "X_train, X_test, y_train, y_test = train_test_split(feature_tensor, delay_tensor, test_size=0.1)\"\"\"\n",
        "\n",
        "X_indices = torch.arange(len(static_features))\n",
        "X_train, X_test, y_train, y_test = train_test_split(X_indices, delay_tensor, test_size=0.1)\n",
        "\n",
        "y_indices = np.arange(len(y_test))"
      ],
      "execution_count": null,
      "outputs": [
        {
          "output_type": "stream",
          "text": [
            "(18909, 1) (18909, 1132)\n"
          ],
          "name": "stdout"
        }
      ]
    },
    {
      "cell_type": "code",
      "metadata": {
        "id": "0-cMitTQkh7T",
        "colab": {
          "base_uri": "https://localhost:8080/",
          "height": 367
        },
        "outputId": "42d9cbee-3a38-471b-e87d-57d3aa7adf04"
      },
      "source": [
        "from skorch.callbacks import GradientNormClipping, Callback"
      ],
      "execution_count": null,
      "outputs": [
        {
          "output_type": "error",
          "ename": "ModuleNotFoundError",
          "evalue": "ignored",
          "traceback": [
            "\u001b[0;31m---------------------------------------------------------------------------\u001b[0m",
            "\u001b[0;31mModuleNotFoundError\u001b[0m                       Traceback (most recent call last)",
            "\u001b[0;32m<ipython-input-15-6053dcc92179>\u001b[0m in \u001b[0;36m<module>\u001b[0;34m()\u001b[0m\n\u001b[1;32m      1\u001b[0m \u001b[0;32mfrom\u001b[0m \u001b[0mtorch\u001b[0m\u001b[0;34m.\u001b[0m\u001b[0mutils\u001b[0m\u001b[0;34m.\u001b[0m\u001b[0mtensorboard\u001b[0m\u001b[0;34m.\u001b[0m\u001b[0mwriter\u001b[0m \u001b[0;32mimport\u001b[0m \u001b[0mSummaryWriter\u001b[0m\u001b[0;34m\u001b[0m\u001b[0;34m\u001b[0m\u001b[0m\n\u001b[0;32m----> 2\u001b[0;31m \u001b[0;32mfrom\u001b[0m \u001b[0mskorch\u001b[0m\u001b[0;34m.\u001b[0m\u001b[0mcallbacks\u001b[0m \u001b[0;32mimport\u001b[0m \u001b[0mTensorBoard\u001b[0m\u001b[0;34m,\u001b[0m \u001b[0mGradientNormClipping\u001b[0m\u001b[0;34m,\u001b[0m \u001b[0mCallback\u001b[0m\u001b[0;34m\u001b[0m\u001b[0;34m\u001b[0m\u001b[0m\n\u001b[0m\u001b[1;32m      3\u001b[0m \u001b[0;32mfrom\u001b[0m \u001b[0msklearn\u001b[0m\u001b[0;34m.\u001b[0m\u001b[0mmetrics\u001b[0m \u001b[0;32mimport\u001b[0m \u001b[0mmean_absolute_error\u001b[0m\u001b[0;34m,\u001b[0m \u001b[0mmean_squared_error\u001b[0m\u001b[0;34m,\u001b[0m \u001b[0mmake_scorer\u001b[0m\u001b[0;34m\u001b[0m\u001b[0;34m\u001b[0m\u001b[0m\n\u001b[1;32m      4\u001b[0m \u001b[0;34m\u001b[0m\u001b[0m\n\u001b[1;32m      5\u001b[0m \u001b[0;32mdef\u001b[0m \u001b[0mmean_absolute_percentage_error\u001b[0m\u001b[0;34m(\u001b[0m\u001b[0my_true\u001b[0m\u001b[0;34m,\u001b[0m \u001b[0my_pred\u001b[0m\u001b[0;34m)\u001b[0m\u001b[0;34m:\u001b[0m\u001b[0;34m\u001b[0m\u001b[0;34m\u001b[0m\u001b[0m\n",
            "\u001b[0;31mModuleNotFoundError\u001b[0m: No module named 'skorch'",
            "",
            "\u001b[0;31m---------------------------------------------------------------------------\u001b[0;32m\nNOTE: If your import is failing due to a missing package, you can\nmanually install dependencies using either !pip or !apt.\n\nTo view examples of installing some common dependencies, click the\n\"Open Examples\" button below.\n\u001b[0;31m---------------------------------------------------------------------------\u001b[0m\n"
          ]
        }
      ]
    },
    {
      "cell_type": "code",
      "metadata": {
        "id": "t1jchvPH2uD1"
      },
      "source": [
        "clip = GradientNormClipping(2)"
      ],
      "execution_count": null,
      "outputs": []
    },
    {
      "cell_type": "code",
      "metadata": {
        "id": "9dvRpBrmgjtN",
        "colab": {
          "base_uri": "https://localhost:8080/",
          "height": 221
        },
        "outputId": "33347d36-d1ff-4de6-914c-f908db3fd5ef"
      },
      "source": [
        "cnn = CNN()\n",
        "\n",
        "estimator = NeuralNetRegressor(cnn, criterion=nn.SmoothL1Loss, #nn.SmoothL1Loss is Huber Loss\n",
        "                               max_epochs = 50, batch_size = 32, callbacks=None,\n",
        "                               device=device, verbose=0)\n",
        "estimator.initialize()"
      ],
      "execution_count": null,
      "outputs": [
        {
          "output_type": "stream",
          "text": [
            "num_convs: 1 num_linears: 1 pool: None {}\n"
          ],
          "name": "stdout"
        },
        {
          "output_type": "execute_result",
          "data": {
            "text/plain": [
              "<class 'skorch.regressor.NeuralNetRegressor'>[initialized](\n",
              "  module_=CNN(\n",
              "    (conv_layers): Sequential(\n",
              "      (0): Conv1d(1, 32, kernel_size=(3,), stride=(1,))\n",
              "      (1): ReLU()\n",
              "    )\n",
              "    (linear_layers): Sequential(\n",
              "      (0): Linear(in_features=36480, out_features=1, bias=True)\n",
              "    )\n",
              "  ),\n",
              ")"
            ]
          },
          "metadata": {
            "tags": []
          },
          "execution_count": 188
        }
      ]
    },
    {
      "cell_type": "markdown",
      "metadata": {
        "id": "Kbleh4PW51lH"
      },
      "source": [
        "# Grid searching various CNN parameters"
      ]
    },
    {
      "cell_type": "code",
      "metadata": {
        "id": "wKjYU_Kg5mWM"
      },
      "source": [
        "cnn_params_to_search = {\"module__num_convs\": [0, 1],\n",
        "                    \"module__pool\": [None, \"after_all\"],\n",
        "                    \"module__num_lda_topics\": [10, 20]\n",
        "                   }\n",
        "non_log_params = {\"criterion\": [nn.SmoothL1Loss],\n",
        "                  \"module__log_delays\": [False]}\n",
        "non_log_params.update(cnn_params_to_search)\n",
        "log_params = {\"criterion\": [LogHuberLoss],\n",
        "                  \"module__log_delays\": [True]}\n",
        "log_params.update(cnn_params_to_search)\n",
        "search_params = [non_log_params, log_params]"
      ],
      "execution_count": null,
      "outputs": []
    },
    {
      "cell_type": "markdown",
      "metadata": {
        "id": "w9wpufEkIxow"
      },
      "source": [
        "This cell plots true and predicted delays for various parameters of the CNN."
      ]
    },
    {
      "cell_type": "code",
      "metadata": {
        "id": "BqNHpY2zmnAj",
        "colab": {
          "base_uri": "https://localhost:8080/",
          "height": 581
        },
        "outputId": "1fbef0fb-947c-4f3d-9ddc-93bea9928902"
      },
      "source": [
        "metrics_to_plot = {\"MAE\": {}, \"RMSE\": {}, \"MAPE\": {}}\n",
        "for num_convs in cnn_params_to_search[\"module__num_convs\"]:\n",
        "    for pool in cnn_params_to_search[\"module__pool\"]:\n",
        "        cnn = CNN(num_convs=num_convs, pool=pool)\n",
        "        estimator = NeuralNetRegressor(cnn, criterion=nn.SmoothL1Loss, #Smooth1Loss is Huber Loss\n",
        "                                       max_epochs = 50, batch_size = 32,\n",
        "                                       callbacks=[clip], device=device, \n",
        "                                       verbose=0)\n",
        "        estimator.initialize()\n",
        "        estimator.fit(X_train, y_train)\n",
        "        y_pred = estimator.predict(X_test)\n",
        "        y_true = y_test\n",
        "        if LOG_DELAYS:\n",
        "            y_pred = np.exp(y_pred)\n",
        "            y_true = np.exp(y_test)\n",
        "        mae = mean_absolute_error(y_true, y_pred)\n",
        "        rmse = mean_squared_error(y_true, y_pred, squared=False)\n",
        "        mape = mean_absolute_percentage_error(y_true, y_pred)\n",
        "        print(\"MAE:\", mae, \"|\", \"RMSE:\", rmse, \"|\", \"MAPE:\", mape)\n",
        "        metrics_to_plot[\"MAE\"].setdefault(pool, []).append(mae)\n",
        "        metrics_to_plot[\"RMSE\"].setdefault(pool, []).append(rmse)\n",
        "        metrics_to_plot[\"MAPE\"].setdefault(pool, []).append(mape)\n",
        "        plt.scatter(y_indices, y_true)\n",
        "        plt.scatter(y_indices, y_pred)\n",
        "        plt.show()\n",
        "        break"
      ],
      "execution_count": null,
      "outputs": [
        {
          "output_type": "stream",
          "text": [
            "num_convs: 0 num_linears: 1 pool: None {}\n",
            "MAE: 3.0277317 | RMSE: 8.535231 | MAPE: 45.355093479156494\n"
          ],
          "name": "stdout"
        },
        {
          "output_type": "display_data",
          "data": {
            "image/png": "[encoded data removed]",
            "text/plain": [
              "<Figure size 432x288 with 1 Axes>"
            ]
          },
          "metadata": {
            "tags": [],
            "needs_background": "light"
          }
        },
        {
          "output_type": "stream",
          "text": [
            "num_convs: 1 num_linears: 1 pool: None {}\n",
            "MAE: 3.0339997 | RMSE: 8.494128 | MAPE: 45.152539014816284\n"
          ],
          "name": "stdout"
        },
        {
          "output_type": "display_data",
          "data": {
            "image/png": "[encoded data removed]",
            "text/plain": [
              "<Figure size 432x288 with 1 Axes>"
            ]
          },
          "metadata": {
            "tags": [],
            "needs_background": "light"
          }
        }
      ]
    },
    {
      "cell_type": "markdown",
      "metadata": {
        "id": "TKjkeiKkJB1p"
      },
      "source": [
        "This cell plots metrics vs number of convolutions and pooling parameters"
      ]
    },
    {
      "cell_type": "code",
      "metadata": {
        "id": "ctBirbK13FV-",
        "colab": {
          "base_uri": "https://localhost:8080/",
          "height": 851
        },
        "outputId": "d166115f-31a3-48c4-8aa0-3701bdefc37a"
      },
      "source": [
        "num_convs = cnn_params_to_search[\"module__num_convs\"] # [0, 1, 2]\n",
        "pool_types = cnn_params_to_search[\"module__pool\"] #none, after_each, after_all\n",
        "for metric in metrics_to_plot:\n",
        "    plt.figure()\n",
        "    for pool in pool_types:\n",
        "        test_scores_pool = metrics_to_plot[metric][pool]\n",
        "        plt.plot(num_convs, test_scores_pool, label=pool)\n",
        "    plt.title(\"Num Convs, Pooling vs \"+metric)\n",
        "    plt.xlabel(\"Num Convs\")\n",
        "    plt.ylabel(metric+\" scores\")\n",
        "    plt.legend(title='Pooling', loc='best')\n",
        "    plt.show()"
      ],
      "execution_count": null,
      "outputs": [
        {
          "output_type": "display_data",
          "data": {
            "image/png": "[encoded data removed]",
            "text/plain": [
              "<Figure size 432x288 with 1 Axes>"
            ]
          },
          "metadata": {
            "tags": [],
            "needs_background": "light"
          }
        },
        {
          "output_type": "display_data",
          "data": {
            "image/png": "[encoded data removed]",
            "text/plain": [
              "<Figure size 432x288 with 1 Axes>"
            ]
          },
          "metadata": {
            "tags": [],
            "needs_background": "light"
          }
        },
        {
          "output_type": "display_data",
          "data": {
            "image/png": "[encoded data removed]",
            "text/plain": [
              "<Figure size 432x288 with 1 Axes>"
            ]
          },
          "metadata": {
            "tags": [],
            "needs_background": "light"
          }
        }
      ]
    },
    {
      "cell_type": "markdown",
      "metadata": {
        "id": "KVQV4okhJPfC"
      },
      "source": [
        "Grid search over all the paramters and display/plot results."
      ]
    },
    {
      "cell_type": "code",
      "metadata": {
        "id": "VH3K0YFu_xEJ"
      },
      "source": [
        "cnn_grid_search = GridSearchCV(estimator, search_params,\n",
        "                               scoring=cnn_metrics, refit=False,\n",
        "                               return_train_score=False, cv=5)"
      ],
      "execution_count": null,
      "outputs": []
    },
    {
      "cell_type": "code",
      "metadata": {
        "id": "Zj0H8MYz8fR1",
        "colab": {
          "base_uri": "https://localhost:8080/",
          "height": 1000
        },
        "outputId": "fad403a6-696c-4b06-94d4-a8c6fdf4ef08"
      },
      "source": [
        "cnn_grid_search.fit(X_train, y_train)"
      ],
      "execution_count": null,
      "outputs": [
        {
          "output_type": "stream",
          "text": [
            "num_convs: 0 num_linears: 1 pool: None {'num_lda_topics': 10}\n",
            "num_convs: 0 num_linears: 1 pool: None {'num_lda_topics': 10}\n",
            "num_convs: 0 num_linears: 1 pool: None {'num_lda_topics': 10}\n",
            "num_convs: 0 num_linears: 1 pool: None {'num_lda_topics': 10}\n",
            "num_convs: 0 num_linears: 1 pool: None {'num_lda_topics': 10}\n",
            "num_convs: 0 num_linears: 1 pool: None {'num_lda_topics': 10}\n",
            "num_convs: 0 num_linears: 1 pool: None {'num_lda_topics': 10}\n",
            "num_convs: 0 num_linears: 1 pool: None {'num_lda_topics': 10}\n",
            "num_convs: 0 num_linears: 1 pool: None {'num_lda_topics': 10}\n",
            "num_convs: 0 num_linears: 1 pool: None {'num_lda_topics': 10}\n",
            "num_convs: 0 num_linears: 1 pool: after_all {'num_lda_topics': 10}\n",
            "num_convs: 0 num_linears: 1 pool: after_all {'num_lda_topics': 10}\n",
            "num_convs: 0 num_linears: 1 pool: after_all {'num_lda_topics': 10}\n",
            "num_convs: 0 num_linears: 1 pool: after_all {'num_lda_topics': 10}\n",
            "num_convs: 0 num_linears: 1 pool: after_all {'num_lda_topics': 10}\n",
            "num_convs: 0 num_linears: 1 pool: after_all {'num_lda_topics': 10}\n",
            "num_convs: 0 num_linears: 1 pool: after_all {'num_lda_topics': 10}\n",
            "num_convs: 0 num_linears: 1 pool: after_all {'num_lda_topics': 10}\n",
            "num_convs: 0 num_linears: 1 pool: after_all {'num_lda_topics': 10}\n",
            "num_convs: 0 num_linears: 1 pool: after_all {'num_lda_topics': 10}\n",
            "num_convs: 0 num_linears: 1 pool: None {'num_lda_topics': 20}\n",
            "num_convs: 0 num_linears: 1 pool: None {'num_lda_topics': 20}\n",
            "num_convs: 0 num_linears: 1 pool: None {'num_lda_topics': 20}\n",
            "num_convs: 0 num_linears: 1 pool: None {'num_lda_topics': 20}\n",
            "num_convs: 0 num_linears: 1 pool: None {'num_lda_topics': 20}\n",
            "num_convs: 0 num_linears: 1 pool: None {'num_lda_topics': 20}\n",
            "num_convs: 0 num_linears: 1 pool: None {'num_lda_topics': 20}\n",
            "num_convs: 0 num_linears: 1 pool: None {'num_lda_topics': 20}\n",
            "num_convs: 0 num_linears: 1 pool: None {'num_lda_topics': 20}\n",
            "num_convs: 0 num_linears: 1 pool: None {'num_lda_topics': 20}\n",
            "num_convs: 0 num_linears: 1 pool: after_all {'num_lda_topics': 20}\n",
            "num_convs: 0 num_linears: 1 pool: after_all {'num_lda_topics': 20}\n",
            "num_convs: 0 num_linears: 1 pool: after_all {'num_lda_topics': 20}\n",
            "num_convs: 0 num_linears: 1 pool: after_all {'num_lda_topics': 20}\n",
            "num_convs: 0 num_linears: 1 pool: after_all {'num_lda_topics': 20}\n",
            "num_convs: 0 num_linears: 1 pool: after_all {'num_lda_topics': 20}\n",
            "num_convs: 0 num_linears: 1 pool: after_all {'num_lda_topics': 20}\n",
            "num_convs: 0 num_linears: 1 pool: after_all {'num_lda_topics': 20}\n",
            "num_convs: 0 num_linears: 1 pool: after_all {'num_lda_topics': 20}\n",
            "num_convs: 0 num_linears: 1 pool: after_all {'num_lda_topics': 20}\n",
            "num_convs: 1 num_linears: 1 pool: None {'num_lda_topics': 10}\n",
            "num_convs: 1 num_linears: 1 pool: None {'num_lda_topics': 10}\n",
            "num_convs: 1 num_linears: 1 pool: None {'num_lda_topics': 10}\n",
            "num_convs: 1 num_linears: 1 pool: None {'num_lda_topics': 10}\n",
            "num_convs: 1 num_linears: 1 pool: None {'num_lda_topics': 10}\n",
            "num_convs: 1 num_linears: 1 pool: None {'num_lda_topics': 10}\n",
            "num_convs: 1 num_linears: 1 pool: None {'num_lda_topics': 10}\n",
            "num_convs: 1 num_linears: 1 pool: None {'num_lda_topics': 10}\n",
            "num_convs: 1 num_linears: 1 pool: None {'num_lda_topics': 10}\n",
            "num_convs: 1 num_linears: 1 pool: None {'num_lda_topics': 10}\n",
            "num_convs: 1 num_linears: 1 pool: after_all {'num_lda_topics': 10}\n",
            "num_convs: 1 num_linears: 1 pool: after_all {'num_lda_topics': 10}\n",
            "num_convs: 1 num_linears: 1 pool: after_all {'num_lda_topics': 10}\n",
            "num_convs: 1 num_linears: 1 pool: after_all {'num_lda_topics': 10}\n",
            "num_convs: 1 num_linears: 1 pool: after_all {'num_lda_topics': 10}\n",
            "num_convs: 1 num_linears: 1 pool: after_all {'num_lda_topics': 10}\n",
            "num_convs: 1 num_linears: 1 pool: after_all {'num_lda_topics': 10}\n",
            "num_convs: 1 num_linears: 1 pool: after_all {'num_lda_topics': 10}\n",
            "num_convs: 1 num_linears: 1 pool: after_all {'num_lda_topics': 10}\n",
            "num_convs: 1 num_linears: 1 pool: after_all {'num_lda_topics': 10}\n",
            "num_convs: 1 num_linears: 1 pool: None {'num_lda_topics': 20}\n",
            "num_convs: 1 num_linears: 1 pool: None {'num_lda_topics': 20}\n",
            "num_convs: 1 num_linears: 1 pool: None {'num_lda_topics': 20}\n",
            "num_convs: 1 num_linears: 1 pool: None {'num_lda_topics': 20}\n",
            "num_convs: 1 num_linears: 1 pool: None {'num_lda_topics': 20}\n",
            "num_convs: 1 num_linears: 1 pool: None {'num_lda_topics': 20}\n",
            "num_convs: 1 num_linears: 1 pool: None {'num_lda_topics': 20}\n",
            "num_convs: 1 num_linears: 1 pool: None {'num_lda_topics': 20}\n",
            "num_convs: 1 num_linears: 1 pool: None {'num_lda_topics': 20}\n",
            "num_convs: 1 num_linears: 1 pool: None {'num_lda_topics': 20}\n",
            "num_convs: 1 num_linears: 1 pool: after_all {'num_lda_topics': 20}\n",
            "num_convs: 1 num_linears: 1 pool: after_all {'num_lda_topics': 20}\n",
            "num_convs: 1 num_linears: 1 pool: after_all {'num_lda_topics': 20}\n",
            "num_convs: 1 num_linears: 1 pool: after_all {'num_lda_topics': 20}\n",
            "num_convs: 1 num_linears: 1 pool: after_all {'num_lda_topics': 20}\n",
            "num_convs: 1 num_linears: 1 pool: after_all {'num_lda_topics': 20}\n",
            "num_convs: 1 num_linears: 1 pool: after_all {'num_lda_topics': 20}\n",
            "num_convs: 1 num_linears: 1 pool: after_all {'num_lda_topics': 20}\n",
            "num_convs: 1 num_linears: 1 pool: after_all {'num_lda_topics': 20}\n",
            "num_convs: 1 num_linears: 1 pool: after_all {'num_lda_topics': 20}\n",
            "num_convs: 0 num_linears: 1 pool: None {'num_lda_topics': 10}\n",
            "num_convs: 0 num_linears: 1 pool: None {'num_lda_topics': 10}\n",
            "num_convs: 0 num_linears: 1 pool: None {'num_lda_topics': 10}\n",
            "num_convs: 0 num_linears: 1 pool: None {'num_lda_topics': 10}\n",
            "num_convs: 0 num_linears: 1 pool: None {'num_lda_topics': 10}\n",
            "num_convs: 0 num_linears: 1 pool: None {'num_lda_topics': 10}\n",
            "num_convs: 0 num_linears: 1 pool: None {'num_lda_topics': 10}\n",
            "num_convs: 0 num_linears: 1 pool: None {'num_lda_topics': 10}\n",
            "num_convs: 0 num_linears: 1 pool: None {'num_lda_topics': 10}\n",
            "num_convs: 0 num_linears: 1 pool: None {'num_lda_topics': 10}\n",
            "num_convs: 0 num_linears: 1 pool: after_all {'num_lda_topics': 10}\n",
            "num_convs: 0 num_linears: 1 pool: after_all {'num_lda_topics': 10}\n",
            "num_convs: 0 num_linears: 1 pool: after_all {'num_lda_topics': 10}\n",
            "num_convs: 0 num_linears: 1 pool: after_all {'num_lda_topics': 10}\n",
            "num_convs: 0 num_linears: 1 pool: after_all {'num_lda_topics': 10}\n",
            "num_convs: 0 num_linears: 1 pool: after_all {'num_lda_topics': 10}\n",
            "num_convs: 0 num_linears: 1 pool: after_all {'num_lda_topics': 10}\n",
            "num_convs: 0 num_linears: 1 pool: after_all {'num_lda_topics': 10}\n",
            "num_convs: 0 num_linears: 1 pool: after_all {'num_lda_topics': 10}\n",
            "num_convs: 0 num_linears: 1 pool: after_all {'num_lda_topics': 10}\n",
            "num_convs: 0 num_linears: 1 pool: None {'num_lda_topics': 20}\n",
            "num_convs: 0 num_linears: 1 pool: None {'num_lda_topics': 20}\n",
            "num_convs: 0 num_linears: 1 pool: None {'num_lda_topics': 20}\n",
            "num_convs: 0 num_linears: 1 pool: None {'num_lda_topics': 20}\n",
            "num_convs: 0 num_linears: 1 pool: None {'num_lda_topics': 20}\n",
            "num_convs: 0 num_linears: 1 pool: None {'num_lda_topics': 20}\n",
            "num_convs: 0 num_linears: 1 pool: None {'num_lda_topics': 20}\n",
            "num_convs: 0 num_linears: 1 pool: None {'num_lda_topics': 20}\n",
            "num_convs: 0 num_linears: 1 pool: None {'num_lda_topics': 20}\n",
            "num_convs: 0 num_linears: 1 pool: None {'num_lda_topics': 20}\n",
            "num_convs: 0 num_linears: 1 pool: after_all {'num_lda_topics': 20}\n",
            "num_convs: 0 num_linears: 1 pool: after_all {'num_lda_topics': 20}\n",
            "num_convs: 0 num_linears: 1 pool: after_all {'num_lda_topics': 20}\n",
            "num_convs: 0 num_linears: 1 pool: after_all {'num_lda_topics': 20}\n",
            "num_convs: 0 num_linears: 1 pool: after_all {'num_lda_topics': 20}\n",
            "num_convs: 0 num_linears: 1 pool: after_all {'num_lda_topics': 20}\n",
            "num_convs: 0 num_linears: 1 pool: after_all {'num_lda_topics': 20}\n",
            "num_convs: 0 num_linears: 1 pool: after_all {'num_lda_topics': 20}\n",
            "num_convs: 0 num_linears: 1 pool: after_all {'num_lda_topics': 20}\n",
            "num_convs: 0 num_linears: 1 pool: after_all {'num_lda_topics': 20}\n",
            "num_convs: 1 num_linears: 1 pool: None {'num_lda_topics': 10}\n",
            "num_convs: 1 num_linears: 1 pool: None {'num_lda_topics': 10}\n",
            "num_convs: 1 num_linears: 1 pool: None {'num_lda_topics': 10}\n",
            "num_convs: 1 num_linears: 1 pool: None {'num_lda_topics': 10}\n",
            "num_convs: 1 num_linears: 1 pool: None {'num_lda_topics': 10}\n",
            "num_convs: 1 num_linears: 1 pool: None {'num_lda_topics': 10}\n",
            "num_convs: 1 num_linears: 1 pool: None {'num_lda_topics': 10}\n",
            "num_convs: 1 num_linears: 1 pool: None {'num_lda_topics': 10}\n",
            "num_convs: 1 num_linears: 1 pool: None {'num_lda_topics': 10}\n",
            "num_convs: 1 num_linears: 1 pool: None {'num_lda_topics': 10}\n",
            "num_convs: 1 num_linears: 1 pool: after_all {'num_lda_topics': 10}\n",
            "num_convs: 1 num_linears: 1 pool: after_all {'num_lda_topics': 10}\n",
            "num_convs: 1 num_linears: 1 pool: after_all {'num_lda_topics': 10}\n",
            "num_convs: 1 num_linears: 1 pool: after_all {'num_lda_topics': 10}\n",
            "num_convs: 1 num_linears: 1 pool: after_all {'num_lda_topics': 10}\n",
            "num_convs: 1 num_linears: 1 pool: after_all {'num_lda_topics': 10}\n",
            "num_convs: 1 num_linears: 1 pool: after_all {'num_lda_topics': 10}\n",
            "num_convs: 1 num_linears: 1 pool: after_all {'num_lda_topics': 10}\n",
            "num_convs: 1 num_linears: 1 pool: after_all {'num_lda_topics': 10}\n",
            "num_convs: 1 num_linears: 1 pool: after_all {'num_lda_topics': 10}\n",
            "num_convs: 1 num_linears: 1 pool: None {'num_lda_topics': 20}\n",
            "num_convs: 1 num_linears: 1 pool: None {'num_lda_topics': 20}\n",
            "num_convs: 1 num_linears: 1 pool: None {'num_lda_topics': 20}\n",
            "num_convs: 1 num_linears: 1 pool: None {'num_lda_topics': 20}\n",
            "num_convs: 1 num_linears: 1 pool: None {'num_lda_topics': 20}\n",
            "num_convs: 1 num_linears: 1 pool: None {'num_lda_topics': 20}\n",
            "num_convs: 1 num_linears: 1 pool: None {'num_lda_topics': 20}\n",
            "num_convs: 1 num_linears: 1 pool: None {'num_lda_topics': 20}\n",
            "num_convs: 1 num_linears: 1 pool: None {'num_lda_topics': 20}\n",
            "num_convs: 1 num_linears: 1 pool: None {'num_lda_topics': 20}\n",
            "num_convs: 1 num_linears: 1 pool: after_all {'num_lda_topics': 20}\n",
            "num_convs: 1 num_linears: 1 pool: after_all {'num_lda_topics': 20}\n",
            "num_convs: 1 num_linears: 1 pool: after_all {'num_lda_topics': 20}\n",
            "num_convs: 1 num_linears: 1 pool: after_all {'num_lda_topics': 20}\n",
            "num_convs: 1 num_linears: 1 pool: after_all {'num_lda_topics': 20}\n",
            "num_convs: 1 num_linears: 1 pool: after_all {'num_lda_topics': 20}\n",
            "num_convs: 1 num_linears: 1 pool: after_all {'num_lda_topics': 20}\n",
            "num_convs: 1 num_linears: 1 pool: after_all {'num_lda_topics': 20}\n",
            "num_convs: 1 num_linears: 1 pool: after_all {'num_lda_topics': 20}\n",
            "num_convs: 1 num_linears: 1 pool: after_all {'num_lda_topics': 20}\n"
          ],
          "name": "stdout"
        },
        {
          "output_type": "execute_result",
          "data": {
            "text/plain": [
              "GridSearchCV(cv=5, error_score=nan,\n",
              "             estimator=<class 'skorch.regressor.NeuralNetRegressor'>[initialized](\n",
              "  module_=CNN(\n",
              "    (conv_layers): Sequential(\n",
              "      (0): Conv1d(1, 32, kernel_size=(3,), stride=(1,))\n",
              "      (1): ReLU()\n",
              "    )\n",
              "    (linear_layers): Sequential(\n",
              "      (0): Linear(in_features=36160, out_features=1, bias=True)\n",
              "    )\n",
              "  ),\n",
              "),\n",
              "             iid='deprecated', n_jobs=None,\n",
              "             param_grid=[{'criterion': [<class 'torch.n...\n",
              "                          'module__num_lda_topics': [10, 20],\n",
              "                          'module__pool': [None, 'after_all']}],\n",
              "             pre_dispatch='2*n_jobs', refit=False, return_train_score=False,\n",
              "             scoring={'neg_mean_absolute_error': 'neg_mean_absolute_error',\n",
              "                      'neg_mean_absolute_percentage_error': make_scorer(mean_absolute_percentage_error, greater_is_better=False),\n",
              "                      'neg_root_mean_squared_error': 'neg_root_mean_squared_error'},\n",
              "             verbose=0)"
            ]
          },
          "metadata": {
            "tags": []
          },
          "execution_count": 206
        }
      ]
    },
    {
      "cell_type": "code",
      "metadata": {
        "id": "guE3Vyn4Cjpr"
      },
      "source": [
        "results = cnn_grid_search.cv_results_\n",
        "\n",
        "results_df = pd.DataFrame(results)"
      ],
      "execution_count": null,
      "outputs": []
    },
    {
      "cell_type": "code",
      "metadata": {
        "id": "mcdE33xyOil0"
      },
      "source": [
        "results_7_29_20_file = DIR + \"delay_prediction/cv_results_log_lda_convs_pool_7_28_20.csv\""
      ],
      "execution_count": null,
      "outputs": []
    },
    {
      "cell_type": "code",
      "metadata": {
        "id": "93h9eJ0ROu2e"
      },
      "source": [
        "results_df = pd.read_csv(results_7_29_20_file)"
      ],
      "execution_count": null,
      "outputs": []
    },
    {
      "cell_type": "code",
      "metadata": {
        "id": "QiN096HFO6Wr"
      },
      "source": [
        "results_df.to_csv(results_7_29_20_file)"
      ],
      "execution_count": null,
      "outputs": []
    },
    {
      "cell_type": "code",
      "metadata": {
        "id": "angT8PLrCk9o",
        "colab": {
          "base_uri": "https://localhost:8080/",
          "height": 616
        },
        "outputId": "f81dbc4c-08ee-41ec-d06e-999a79db895e"
      },
      "source": [
        "from IPython.display import display\n",
        "\n",
        "for metric in cnn_metrics:\n",
        "    display(results_df.sort_values(by='rank_test_'+metric).head(3))"
      ],
      "execution_count": null,
      "outputs": [
        {
          "output_type": "display_data",
          "data": {
            "text/html": [
              "<div>\n",
              "<style scoped>\n",
              "    .dataframe tbody tr th:only-of-type {\n",
              "        vertical-align: middle;\n",
              "    }\n",
              "\n",
              "    .dataframe tbody tr th {\n",
              "        vertical-align: top;\n",
              "    }\n",
              "\n",
              "    .dataframe thead th {\n",
              "        text-align: right;\n",
              "    }\n",
              "</style>\n",
              "<table border=\"1\" class=\"dataframe\">\n",
              "  <thead>\n",
              "    <tr style=\"text-align: right;\">\n",
              "      <th></th>\n",
              "      <th>Unnamed: 0</th>\n",
              "      <th>mean_fit_time</th>\n",
              "      <th>std_fit_time</th>\n",
              "      <th>mean_score_time</th>\n",
              "      <th>std_score_time</th>\n",
              "      <th>param_criterion</th>\n",
              "      <th>param_module__log_delays</th>\n",
              "      <th>param_module__num_convs</th>\n",
              "      <th>param_module__num_lda_topics</th>\n",
              "      <th>param_module__pool</th>\n",
              "      <th>params</th>\n",
              "      <th>split0_test_neg_mean_absolute_error</th>\n",
              "      <th>split1_test_neg_mean_absolute_error</th>\n",
              "      <th>split2_test_neg_mean_absolute_error</th>\n",
              "      <th>split3_test_neg_mean_absolute_error</th>\n",
              "      <th>split4_test_neg_mean_absolute_error</th>\n",
              "      <th>mean_test_neg_mean_absolute_error</th>\n",
              "      <th>std_test_neg_mean_absolute_error</th>\n",
              "      <th>rank_test_neg_mean_absolute_error</th>\n",
              "      <th>split0_test_neg_root_mean_squared_error</th>\n",
              "      <th>split1_test_neg_root_mean_squared_error</th>\n",
              "      <th>split2_test_neg_root_mean_squared_error</th>\n",
              "      <th>split3_test_neg_root_mean_squared_error</th>\n",
              "      <th>split4_test_neg_root_mean_squared_error</th>\n",
              "      <th>mean_test_neg_root_mean_squared_error</th>\n",
              "      <th>std_test_neg_root_mean_squared_error</th>\n",
              "      <th>rank_test_neg_root_mean_squared_error</th>\n",
              "      <th>split0_test_neg_mean_absolute_percentage_error</th>\n",
              "      <th>split1_test_neg_mean_absolute_percentage_error</th>\n",
              "      <th>split2_test_neg_mean_absolute_percentage_error</th>\n",
              "      <th>split3_test_neg_mean_absolute_percentage_error</th>\n",
              "      <th>split4_test_neg_mean_absolute_percentage_error</th>\n",
              "      <th>mean_test_neg_mean_absolute_percentage_error</th>\n",
              "      <th>std_test_neg_mean_absolute_percentage_error</th>\n",
              "      <th>rank_test_neg_mean_absolute_percentage_error</th>\n",
              "    </tr>\n",
              "  </thead>\n",
              "  <tbody>\n",
              "    <tr>\n",
              "      <th>0</th>\n",
              "      <td>0</td>\n",
              "      <td>30.890790</td>\n",
              "      <td>0.145797</td>\n",
              "      <td>0.060998</td>\n",
              "      <td>0.001315</td>\n",
              "      <td>&lt;class 'torch.nn.modules.loss.SmoothL1Loss'&gt;</td>\n",
              "      <td>False</td>\n",
              "      <td>0</td>\n",
              "      <td>10</td>\n",
              "      <td>NaN</td>\n",
              "      <td>{'criterion': &lt;class 'torch.nn.modules.loss.Sm...</td>\n",
              "      <td>-2.895959</td>\n",
              "      <td>-2.723905</td>\n",
              "      <td>-2.620178</td>\n",
              "      <td>-3.031671</td>\n",
              "      <td>-2.585900</td>\n",
              "      <td>-2.771522</td>\n",
              "      <td>0.168991</td>\n",
              "      <td>1</td>\n",
              "      <td>-7.882117</td>\n",
              "      <td>-7.116867</td>\n",
              "      <td>-6.967162</td>\n",
              "      <td>-8.501788</td>\n",
              "      <td>-6.753809</td>\n",
              "      <td>-7.444349</td>\n",
              "      <td>0.651401</td>\n",
              "      <td>11</td>\n",
              "      <td>-46.354222</td>\n",
              "      <td>-48.927754</td>\n",
              "      <td>-46.215773</td>\n",
              "      <td>-47.397694</td>\n",
              "      <td>-47.993296</td>\n",
              "      <td>-47.377748</td>\n",
              "      <td>1.017802</td>\n",
              "      <td>3</td>\n",
              "    </tr>\n",
              "    <tr>\n",
              "      <th>2</th>\n",
              "      <td>2</td>\n",
              "      <td>30.894294</td>\n",
              "      <td>0.050454</td>\n",
              "      <td>0.061376</td>\n",
              "      <td>0.001258</td>\n",
              "      <td>&lt;class 'torch.nn.modules.loss.SmoothL1Loss'&gt;</td>\n",
              "      <td>False</td>\n",
              "      <td>0</td>\n",
              "      <td>20</td>\n",
              "      <td>NaN</td>\n",
              "      <td>{'criterion': &lt;class 'torch.nn.modules.loss.Sm...</td>\n",
              "      <td>-2.907976</td>\n",
              "      <td>-2.726988</td>\n",
              "      <td>-2.626713</td>\n",
              "      <td>-3.035502</td>\n",
              "      <td>-2.597956</td>\n",
              "      <td>-2.779027</td>\n",
              "      <td>0.167989</td>\n",
              "      <td>2</td>\n",
              "      <td>-7.912694</td>\n",
              "      <td>-7.143770</td>\n",
              "      <td>-6.990664</td>\n",
              "      <td>-8.526443</td>\n",
              "      <td>-6.781129</td>\n",
              "      <td>-7.470940</td>\n",
              "      <td>0.651579</td>\n",
              "      <td>12</td>\n",
              "      <td>-46.328509</td>\n",
              "      <td>-48.841017</td>\n",
              "      <td>-46.015108</td>\n",
              "      <td>-47.201478</td>\n",
              "      <td>-48.141474</td>\n",
              "      <td>-47.305517</td>\n",
              "      <td>1.066500</td>\n",
              "      <td>2</td>\n",
              "    </tr>\n",
              "    <tr>\n",
              "      <th>1</th>\n",
              "      <td>1</td>\n",
              "      <td>31.825614</td>\n",
              "      <td>0.146230</td>\n",
              "      <td>0.065660</td>\n",
              "      <td>0.001678</td>\n",
              "      <td>&lt;class 'torch.nn.modules.loss.SmoothL1Loss'&gt;</td>\n",
              "      <td>False</td>\n",
              "      <td>0</td>\n",
              "      <td>10</td>\n",
              "      <td>after_all</td>\n",
              "      <td>{'criterion': &lt;class 'torch.nn.modules.loss.Sm...</td>\n",
              "      <td>-2.968714</td>\n",
              "      <td>-2.799273</td>\n",
              "      <td>-2.675830</td>\n",
              "      <td>-3.056837</td>\n",
              "      <td>-2.659770</td>\n",
              "      <td>-2.832085</td>\n",
              "      <td>0.157712</td>\n",
              "      <td>3</td>\n",
              "      <td>-8.085806</td>\n",
              "      <td>-7.275968</td>\n",
              "      <td>-7.052957</td>\n",
              "      <td>-8.630808</td>\n",
              "      <td>-6.865454</td>\n",
              "      <td>-7.582199</td>\n",
              "      <td>0.669447</td>\n",
              "      <td>15</td>\n",
              "      <td>-46.655461</td>\n",
              "      <td>-49.481556</td>\n",
              "      <td>-46.736848</td>\n",
              "      <td>-48.602286</td>\n",
              "      <td>-47.765630</td>\n",
              "      <td>-47.848356</td>\n",
              "      <td>1.086374</td>\n",
              "      <td>4</td>\n",
              "    </tr>\n",
              "  </tbody>\n",
              "</table>\n",
              "</div>"
            ],
            "text/plain": [
              "   Unnamed: 0  ...  rank_test_neg_mean_absolute_percentage_error\n",
              "0           0  ...                                             3\n",
              "2           2  ...                                             2\n",
              "1           1  ...                                             4\n",
              "\n",
              "[3 rows x 35 columns]"
            ]
          },
          "metadata": {
            "tags": []
          }
        },
        {
          "output_type": "display_data",
          "data": {
            "text/html": [
              "<div>\n",
              "<style scoped>\n",
              "    .dataframe tbody tr th:only-of-type {\n",
              "        vertical-align: middle;\n",
              "    }\n",
              "\n",
              "    .dataframe tbody tr th {\n",
              "        vertical-align: top;\n",
              "    }\n",
              "\n",
              "    .dataframe thead th {\n",
              "        text-align: right;\n",
              "    }\n",
              "</style>\n",
              "<table border=\"1\" class=\"dataframe\">\n",
              "  <thead>\n",
              "    <tr style=\"text-align: right;\">\n",
              "      <th></th>\n",
              "      <th>Unnamed: 0</th>\n",
              "      <th>mean_fit_time</th>\n",
              "      <th>std_fit_time</th>\n",
              "      <th>mean_score_time</th>\n",
              "      <th>std_score_time</th>\n",
              "      <th>param_criterion</th>\n",
              "      <th>param_module__log_delays</th>\n",
              "      <th>param_module__num_convs</th>\n",
              "      <th>param_module__num_lda_topics</th>\n",
              "      <th>param_module__pool</th>\n",
              "      <th>params</th>\n",
              "      <th>split0_test_neg_mean_absolute_error</th>\n",
              "      <th>split1_test_neg_mean_absolute_error</th>\n",
              "      <th>split2_test_neg_mean_absolute_error</th>\n",
              "      <th>split3_test_neg_mean_absolute_error</th>\n",
              "      <th>split4_test_neg_mean_absolute_error</th>\n",
              "      <th>mean_test_neg_mean_absolute_error</th>\n",
              "      <th>std_test_neg_mean_absolute_error</th>\n",
              "      <th>rank_test_neg_mean_absolute_error</th>\n",
              "      <th>split0_test_neg_root_mean_squared_error</th>\n",
              "      <th>split1_test_neg_root_mean_squared_error</th>\n",
              "      <th>split2_test_neg_root_mean_squared_error</th>\n",
              "      <th>split3_test_neg_root_mean_squared_error</th>\n",
              "      <th>split4_test_neg_root_mean_squared_error</th>\n",
              "      <th>mean_test_neg_root_mean_squared_error</th>\n",
              "      <th>std_test_neg_root_mean_squared_error</th>\n",
              "      <th>rank_test_neg_root_mean_squared_error</th>\n",
              "      <th>split0_test_neg_mean_absolute_percentage_error</th>\n",
              "      <th>split1_test_neg_mean_absolute_percentage_error</th>\n",
              "      <th>split2_test_neg_mean_absolute_percentage_error</th>\n",
              "      <th>split3_test_neg_mean_absolute_percentage_error</th>\n",
              "      <th>split4_test_neg_mean_absolute_percentage_error</th>\n",
              "      <th>mean_test_neg_mean_absolute_percentage_error</th>\n",
              "      <th>std_test_neg_mean_absolute_percentage_error</th>\n",
              "      <th>rank_test_neg_mean_absolute_percentage_error</th>\n",
              "    </tr>\n",
              "  </thead>\n",
              "  <tbody>\n",
              "    <tr>\n",
              "      <th>14</th>\n",
              "      <td>14</td>\n",
              "      <td>40.995076</td>\n",
              "      <td>0.125476</td>\n",
              "      <td>0.079617</td>\n",
              "      <td>0.001388</td>\n",
              "      <td>&lt;class '__main__.LogHuberLoss'&gt;</td>\n",
              "      <td>True</td>\n",
              "      <td>1</td>\n",
              "      <td>20</td>\n",
              "      <td>NaN</td>\n",
              "      <td>{'criterion': &lt;class '__main__.LogHuberLoss'&gt;,...</td>\n",
              "      <td>-3.092285</td>\n",
              "      <td>-2.826835</td>\n",
              "      <td>-2.864419</td>\n",
              "      <td>-3.496049</td>\n",
              "      <td>-2.936451</td>\n",
              "      <td>-3.043208</td>\n",
              "      <td>0.243989</td>\n",
              "      <td>16</td>\n",
              "      <td>-7.728328</td>\n",
              "      <td>-6.855965</td>\n",
              "      <td>-6.624840</td>\n",
              "      <td>-7.914584</td>\n",
              "      <td>-6.326144</td>\n",
              "      <td>-7.089972</td>\n",
              "      <td>0.623221</td>\n",
              "      <td>1</td>\n",
              "      <td>-51.398069</td>\n",
              "      <td>-44.856387</td>\n",
              "      <td>-54.587901</td>\n",
              "      <td>-69.080275</td>\n",
              "      <td>-63.558739</td>\n",
              "      <td>-56.696274</td>\n",
              "      <td>8.638936</td>\n",
              "      <td>16</td>\n",
              "    </tr>\n",
              "    <tr>\n",
              "      <th>12</th>\n",
              "      <td>12</td>\n",
              "      <td>40.703278</td>\n",
              "      <td>0.083922</td>\n",
              "      <td>0.079057</td>\n",
              "      <td>0.000797</td>\n",
              "      <td>&lt;class '__main__.LogHuberLoss'&gt;</td>\n",
              "      <td>True</td>\n",
              "      <td>1</td>\n",
              "      <td>10</td>\n",
              "      <td>NaN</td>\n",
              "      <td>{'criterion': &lt;class '__main__.LogHuberLoss'&gt;,...</td>\n",
              "      <td>-3.118163</td>\n",
              "      <td>-2.897743</td>\n",
              "      <td>-2.875968</td>\n",
              "      <td>-3.270459</td>\n",
              "      <td>-2.731660</td>\n",
              "      <td>-2.978798</td>\n",
              "      <td>0.191160</td>\n",
              "      <td>15</td>\n",
              "      <td>-7.731101</td>\n",
              "      <td>-6.612744</td>\n",
              "      <td>-6.576982</td>\n",
              "      <td>-8.093686</td>\n",
              "      <td>-6.462354</td>\n",
              "      <td>-7.095374</td>\n",
              "      <td>0.678698</td>\n",
              "      <td>2</td>\n",
              "      <td>-46.518159</td>\n",
              "      <td>-56.789476</td>\n",
              "      <td>-55.436164</td>\n",
              "      <td>-60.762793</td>\n",
              "      <td>-50.152785</td>\n",
              "      <td>-53.931875</td>\n",
              "      <td>5.026627</td>\n",
              "      <td>13</td>\n",
              "    </tr>\n",
              "    <tr>\n",
              "      <th>13</th>\n",
              "      <td>13</td>\n",
              "      <td>42.694966</td>\n",
              "      <td>0.201401</td>\n",
              "      <td>0.083581</td>\n",
              "      <td>0.003222</td>\n",
              "      <td>&lt;class '__main__.LogHuberLoss'&gt;</td>\n",
              "      <td>True</td>\n",
              "      <td>1</td>\n",
              "      <td>10</td>\n",
              "      <td>after_all</td>\n",
              "      <td>{'criterion': &lt;class '__main__.LogHuberLoss'&gt;,...</td>\n",
              "      <td>-3.062761</td>\n",
              "      <td>-2.811834</td>\n",
              "      <td>-2.734406</td>\n",
              "      <td>-3.273712</td>\n",
              "      <td>-2.737647</td>\n",
              "      <td>-2.924072</td>\n",
              "      <td>0.212041</td>\n",
              "      <td>13</td>\n",
              "      <td>-7.615706</td>\n",
              "      <td>-6.804935</td>\n",
              "      <td>-6.627779</td>\n",
              "      <td>-8.065169</td>\n",
              "      <td>-6.486840</td>\n",
              "      <td>-7.120086</td>\n",
              "      <td>0.613434</td>\n",
              "      <td>3</td>\n",
              "      <td>-51.439822</td>\n",
              "      <td>-48.928609</td>\n",
              "      <td>-50.132030</td>\n",
              "      <td>-59.424615</td>\n",
              "      <td>-50.023133</td>\n",
              "      <td>-51.989642</td>\n",
              "      <td>3.801813</td>\n",
              "      <td>10</td>\n",
              "    </tr>\n",
              "  </tbody>\n",
              "</table>\n",
              "</div>"
            ],
            "text/plain": [
              "    Unnamed: 0  ...  rank_test_neg_mean_absolute_percentage_error\n",
              "14          14  ...                                            16\n",
              "12          12  ...                                            13\n",
              "13          13  ...                                            10\n",
              "\n",
              "[3 rows x 35 columns]"
            ]
          },
          "metadata": {
            "tags": []
          }
        },
        {
          "output_type": "display_data",
          "data": {
            "text/html": [
              "<div>\n",
              "<style scoped>\n",
              "    .dataframe tbody tr th:only-of-type {\n",
              "        vertical-align: middle;\n",
              "    }\n",
              "\n",
              "    .dataframe tbody tr th {\n",
              "        vertical-align: top;\n",
              "    }\n",
              "\n",
              "    .dataframe thead th {\n",
              "        text-align: right;\n",
              "    }\n",
              "</style>\n",
              "<table border=\"1\" class=\"dataframe\">\n",
              "  <thead>\n",
              "    <tr style=\"text-align: right;\">\n",
              "      <th></th>\n",
              "      <th>Unnamed: 0</th>\n",
              "      <th>mean_fit_time</th>\n",
              "      <th>std_fit_time</th>\n",
              "      <th>mean_score_time</th>\n",
              "      <th>std_score_time</th>\n",
              "      <th>param_criterion</th>\n",
              "      <th>param_module__log_delays</th>\n",
              "      <th>param_module__num_convs</th>\n",
              "      <th>param_module__num_lda_topics</th>\n",
              "      <th>param_module__pool</th>\n",
              "      <th>params</th>\n",
              "      <th>split0_test_neg_mean_absolute_error</th>\n",
              "      <th>split1_test_neg_mean_absolute_error</th>\n",
              "      <th>split2_test_neg_mean_absolute_error</th>\n",
              "      <th>split3_test_neg_mean_absolute_error</th>\n",
              "      <th>split4_test_neg_mean_absolute_error</th>\n",
              "      <th>mean_test_neg_mean_absolute_error</th>\n",
              "      <th>std_test_neg_mean_absolute_error</th>\n",
              "      <th>rank_test_neg_mean_absolute_error</th>\n",
              "      <th>split0_test_neg_root_mean_squared_error</th>\n",
              "      <th>split1_test_neg_root_mean_squared_error</th>\n",
              "      <th>split2_test_neg_root_mean_squared_error</th>\n",
              "      <th>split3_test_neg_root_mean_squared_error</th>\n",
              "      <th>split4_test_neg_root_mean_squared_error</th>\n",
              "      <th>mean_test_neg_root_mean_squared_error</th>\n",
              "      <th>std_test_neg_root_mean_squared_error</th>\n",
              "      <th>rank_test_neg_root_mean_squared_error</th>\n",
              "      <th>split0_test_neg_mean_absolute_percentage_error</th>\n",
              "      <th>split1_test_neg_mean_absolute_percentage_error</th>\n",
              "      <th>split2_test_neg_mean_absolute_percentage_error</th>\n",
              "      <th>split3_test_neg_mean_absolute_percentage_error</th>\n",
              "      <th>split4_test_neg_mean_absolute_percentage_error</th>\n",
              "      <th>mean_test_neg_mean_absolute_percentage_error</th>\n",
              "      <th>std_test_neg_mean_absolute_percentage_error</th>\n",
              "      <th>rank_test_neg_mean_absolute_percentage_error</th>\n",
              "    </tr>\n",
              "  </thead>\n",
              "  <tbody>\n",
              "    <tr>\n",
              "      <th>3</th>\n",
              "      <td>3</td>\n",
              "      <td>31.890407</td>\n",
              "      <td>0.157898</td>\n",
              "      <td>0.065738</td>\n",
              "      <td>0.003920</td>\n",
              "      <td>&lt;class 'torch.nn.modules.loss.SmoothL1Loss'&gt;</td>\n",
              "      <td>False</td>\n",
              "      <td>0</td>\n",
              "      <td>20</td>\n",
              "      <td>after_all</td>\n",
              "      <td>{'criterion': &lt;class 'torch.nn.modules.loss.Sm...</td>\n",
              "      <td>-2.980315</td>\n",
              "      <td>-2.800541</td>\n",
              "      <td>-2.670015</td>\n",
              "      <td>-3.056820</td>\n",
              "      <td>-2.661767</td>\n",
              "      <td>-2.833892</td>\n",
              "      <td>0.160457</td>\n",
              "      <td>4</td>\n",
              "      <td>-8.107554</td>\n",
              "      <td>-7.303682</td>\n",
              "      <td>-7.069633</td>\n",
              "      <td>-8.656444</td>\n",
              "      <td>-6.884972</td>\n",
              "      <td>-7.604457</td>\n",
              "      <td>0.671408</td>\n",
              "      <td>16</td>\n",
              "      <td>-46.333945</td>\n",
              "      <td>-48.735642</td>\n",
              "      <td>-45.959029</td>\n",
              "      <td>-48.030454</td>\n",
              "      <td>-47.317532</td>\n",
              "      <td>-47.275320</td>\n",
              "      <td>1.031830</td>\n",
              "      <td>1</td>\n",
              "    </tr>\n",
              "    <tr>\n",
              "      <th>2</th>\n",
              "      <td>2</td>\n",
              "      <td>30.894294</td>\n",
              "      <td>0.050454</td>\n",
              "      <td>0.061376</td>\n",
              "      <td>0.001258</td>\n",
              "      <td>&lt;class 'torch.nn.modules.loss.SmoothL1Loss'&gt;</td>\n",
              "      <td>False</td>\n",
              "      <td>0</td>\n",
              "      <td>20</td>\n",
              "      <td>NaN</td>\n",
              "      <td>{'criterion': &lt;class 'torch.nn.modules.loss.Sm...</td>\n",
              "      <td>-2.907976</td>\n",
              "      <td>-2.726988</td>\n",
              "      <td>-2.626713</td>\n",
              "      <td>-3.035502</td>\n",
              "      <td>-2.597956</td>\n",
              "      <td>-2.779027</td>\n",
              "      <td>0.167989</td>\n",
              "      <td>2</td>\n",
              "      <td>-7.912694</td>\n",
              "      <td>-7.143770</td>\n",
              "      <td>-6.990664</td>\n",
              "      <td>-8.526443</td>\n",
              "      <td>-6.781129</td>\n",
              "      <td>-7.470940</td>\n",
              "      <td>0.651579</td>\n",
              "      <td>12</td>\n",
              "      <td>-46.328509</td>\n",
              "      <td>-48.841017</td>\n",
              "      <td>-46.015108</td>\n",
              "      <td>-47.201478</td>\n",
              "      <td>-48.141474</td>\n",
              "      <td>-47.305517</td>\n",
              "      <td>1.066500</td>\n",
              "      <td>2</td>\n",
              "    </tr>\n",
              "    <tr>\n",
              "      <th>0</th>\n",
              "      <td>0</td>\n",
              "      <td>30.890790</td>\n",
              "      <td>0.145797</td>\n",
              "      <td>0.060998</td>\n",
              "      <td>0.001315</td>\n",
              "      <td>&lt;class 'torch.nn.modules.loss.SmoothL1Loss'&gt;</td>\n",
              "      <td>False</td>\n",
              "      <td>0</td>\n",
              "      <td>10</td>\n",
              "      <td>NaN</td>\n",
              "      <td>{'criterion': &lt;class 'torch.nn.modules.loss.Sm...</td>\n",
              "      <td>-2.895959</td>\n",
              "      <td>-2.723905</td>\n",
              "      <td>-2.620178</td>\n",
              "      <td>-3.031671</td>\n",
              "      <td>-2.585900</td>\n",
              "      <td>-2.771522</td>\n",
              "      <td>0.168991</td>\n",
              "      <td>1</td>\n",
              "      <td>-7.882117</td>\n",
              "      <td>-7.116867</td>\n",
              "      <td>-6.967162</td>\n",
              "      <td>-8.501788</td>\n",
              "      <td>-6.753809</td>\n",
              "      <td>-7.444349</td>\n",
              "      <td>0.651401</td>\n",
              "      <td>11</td>\n",
              "      <td>-46.354222</td>\n",
              "      <td>-48.927754</td>\n",
              "      <td>-46.215773</td>\n",
              "      <td>-47.397694</td>\n",
              "      <td>-47.993296</td>\n",
              "      <td>-47.377748</td>\n",
              "      <td>1.017802</td>\n",
              "      <td>3</td>\n",
              "    </tr>\n",
              "  </tbody>\n",
              "</table>\n",
              "</div>"
            ],
            "text/plain": [
              "   Unnamed: 0  ...  rank_test_neg_mean_absolute_percentage_error\n",
              "3           3  ...                                             1\n",
              "2           2  ...                                             2\n",
              "0           0  ...                                             3\n",
              "\n",
              "[3 rows x 35 columns]"
            ]
          },
          "metadata": {
            "tags": []
          }
        }
      ]
    },
    {
      "cell_type": "code",
      "metadata": {
        "id": "vGEvjYVM-T0b",
        "colab": {
          "base_uri": "https://localhost:8080/",
          "height": 851
        },
        "outputId": "50953d2f-d60a-446e-b8a2-4e3a25e658f8"
      },
      "source": [
        "num_convs = cnn_params_to_search[\"module__num_convs\"] # [0, 1, 2]\n",
        "pool_types = cnn_params_to_search[\"module__pool\"] #none, after_each, after_all\n",
        "for metric in cnn_metrics:\n",
        "    plt.figure()\n",
        "    for pool in pool_types:\n",
        "        pool_select = results[\"param_module__pool\"] == pool\n",
        "        #train_scores_pool = results[\"mean_train_\"+metric][pool_select]\n",
        "        test_scores_pool = results[\"mean_test_\"+metric][pool_select]\n",
        "        plt.plot(num_convs, test_scores_pool, label=str(pool))\n",
        "    plt.title(\"Mean Validation: Num Convs, Pooling vs \"+metric)\n",
        "    plt.xlabel(\"Num Convs\")\n",
        "    plt.ylabel(metric+\" scores\")\n",
        "    plt.legend(title='Pooling', loc='best')\n",
        "    plt.show()"
      ],
      "execution_count": null,
      "outputs": [
        {
          "output_type": "display_data",
          "data": {
            "image/png": "[encoded data removed]",
            "text/plain": [
              "<Figure size 432x288 with 1 Axes>"
            ]
          },
          "metadata": {
            "tags": [],
            "needs_background": "light"
          }
        },
        {
          "output_type": "display_data",
          "data": {
            "image/png": "[encoded data removed]",
            "text/plain": [
              "<Figure size 432x288 with 1 Axes>"
            ]
          },
          "metadata": {
            "tags": [],
            "needs_background": "light"
          }
        },
        {
          "output_type": "display_data",
          "data": {
            "image/png": "[encoded data removed]",
            "text/plain": [
              "<Figure size 432x288 with 1 Axes>"
            ]
          },
          "metadata": {
            "tags": [],
            "needs_background": "light"
          }
        }
      ]
    }
  ]
}